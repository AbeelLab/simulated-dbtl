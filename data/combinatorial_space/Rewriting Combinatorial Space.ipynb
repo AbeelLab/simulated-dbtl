{
 "cells": [
  {
   "cell_type": "code",
   "execution_count": 4,
   "id": "2e91061c",
   "metadata": {},
   "outputs": [],
   "source": [
    "import pandas as pd\n",
    "import numpy as np\n",
    "import matplotlib.pyplot as plt"
   ]
  },
  {
   "cell_type": "code",
   "execution_count": 5,
   "id": "90ed3e3e",
   "metadata": {},
   "outputs": [],
   "source": [
    "\n",
    "\n",
    "\n",
    "comb_1=pd.read_csv(\"comb_flux_1.csv\")\n",
    "comb_2=pd.read_csv(\"comb_flux_2.csv\")\n",
    "comb_3=pd.read_csv(\"comb_flux_3.csv\")\n",
    "comb_4=pd.read_csv(\"comb_flux_4.csv\")\n",
    "\n",
    "comb_1=comb_1[['Unnamed: 0','Enzyme_G']]\n",
    "comb_2=comb_2[['Unnamed: 0','Enzyme_G']]\n",
    "comb_3=comb_3[['Unnamed: 0','Enzyme_G']]\n",
    "comb_4=comb_4[['Unnamed: 0','Enzyme_G']]\n",
    "\n",
    "comb_1=comb_1.rename(columns={\"Unnamed: 0\":\"Cart\"})\n",
    "comb_2=comb_2.rename(columns={\"Unnamed: 0\":\"Cart\"})\n",
    "comb_3=comb_3.rename(columns={\"Unnamed: 0\":\"Cart\"})\n",
    "comb_4=comb_4.rename(columns={\"Unnamed: 0\":\"Cart\"})"
   ]
  },
  {
   "cell_type": "code",
   "execution_count": 6,
   "id": "2e5970be",
   "metadata": {},
   "outputs": [
    {
     "data": {
      "text/html": [
       "<div>\n",
       "<style scoped>\n",
       "    .dataframe tbody tr th:only-of-type {\n",
       "        vertical-align: middle;\n",
       "    }\n",
       "\n",
       "    .dataframe tbody tr th {\n",
       "        vertical-align: top;\n",
       "    }\n",
       "\n",
       "    .dataframe thead th {\n",
       "        text-align: right;\n",
       "    }\n",
       "</style>\n",
       "<table border=\"1\" class=\"dataframe\">\n",
       "  <thead>\n",
       "    <tr style=\"text-align: right;\">\n",
       "      <th></th>\n",
       "      <th>Cart</th>\n",
       "      <th>Enzyme_G</th>\n",
       "    </tr>\n",
       "  </thead>\n",
       "  <tbody>\n",
       "    <tr>\n",
       "      <th>0</th>\n",
       "      <td>(1.5, 1.0, 1.5, 1.0, 2.0, 1.0, 2.0)</td>\n",
       "      <td>0.748938</td>\n",
       "    </tr>\n",
       "    <tr>\n",
       "      <th>1</th>\n",
       "      <td>(1.5, 1.0, 1.5, 1.0, 2.0, 1.0, 4.0)</td>\n",
       "      <td>0.374469</td>\n",
       "    </tr>\n",
       "    <tr>\n",
       "      <th>2</th>\n",
       "      <td>(1.5, 1.0, 1.5, 1.0, 2.0, 1.5, 0.25)</td>\n",
       "      <td>5.991502</td>\n",
       "    </tr>\n",
       "    <tr>\n",
       "      <th>3</th>\n",
       "      <td>(1.5, 1.0, 1.5, 1.0, 2.0, 1.5, 0.5)</td>\n",
       "      <td>2.995754</td>\n",
       "    </tr>\n",
       "    <tr>\n",
       "      <th>4</th>\n",
       "      <td>(1.5, 1.0, 1.5, 1.0, 2.0, 1.5, 1.0)</td>\n",
       "      <td>1.497877</td>\n",
       "    </tr>\n",
       "    <tr>\n",
       "      <th>...</th>\n",
       "      <td>...</td>\n",
       "      <td>...</td>\n",
       "    </tr>\n",
       "    <tr>\n",
       "      <th>79995</th>\n",
       "      <td>(4.0, 0.25, 4.0, 0.5, 0.25, 1.5, 0.5)</td>\n",
       "      <td>1.468851</td>\n",
       "    </tr>\n",
       "    <tr>\n",
       "      <th>79996</th>\n",
       "      <td>(4.0, 0.25, 4.0, 0.5, 0.25, 1.5, 1.0)</td>\n",
       "      <td>0.740540</td>\n",
       "    </tr>\n",
       "    <tr>\n",
       "      <th>79997</th>\n",
       "      <td>(4.0, 0.25, 4.0, 0.5, 0.25, 1.5, 1.5)</td>\n",
       "      <td>0.494787</td>\n",
       "    </tr>\n",
       "    <tr>\n",
       "      <th>79998</th>\n",
       "      <td>(4.0, 0.25, 4.0, 0.5, 0.25, 1.5, 2.0)</td>\n",
       "      <td>0.371468</td>\n",
       "    </tr>\n",
       "    <tr>\n",
       "      <th>79999</th>\n",
       "      <td>(4.0, 0.25, 4.0, 0.5, 0.25, 1.5, 4.0)</td>\n",
       "      <td>0.185997</td>\n",
       "    </tr>\n",
       "  </tbody>\n",
       "</table>\n",
       "<p>80000 rows × 2 columns</p>\n",
       "</div>"
      ],
      "text/plain": [
       "                                        Cart  Enzyme_G\n",
       "0        (1.5, 1.0, 1.5, 1.0, 2.0, 1.0, 2.0)  0.748938\n",
       "1        (1.5, 1.0, 1.5, 1.0, 2.0, 1.0, 4.0)  0.374469\n",
       "2       (1.5, 1.0, 1.5, 1.0, 2.0, 1.5, 0.25)  5.991502\n",
       "3        (1.5, 1.0, 1.5, 1.0, 2.0, 1.5, 0.5)  2.995754\n",
       "4        (1.5, 1.0, 1.5, 1.0, 2.0, 1.5, 1.0)  1.497877\n",
       "...                                      ...       ...\n",
       "79995  (4.0, 0.25, 4.0, 0.5, 0.25, 1.5, 0.5)  1.468851\n",
       "79996  (4.0, 0.25, 4.0, 0.5, 0.25, 1.5, 1.0)  0.740540\n",
       "79997  (4.0, 0.25, 4.0, 0.5, 0.25, 1.5, 1.5)  0.494787\n",
       "79998  (4.0, 0.25, 4.0, 0.5, 0.25, 1.5, 2.0)  0.371468\n",
       "79999  (4.0, 0.25, 4.0, 0.5, 0.25, 1.5, 4.0)  0.185997\n",
       "\n",
       "[80000 rows x 2 columns]"
      ]
     },
     "execution_count": 6,
     "metadata": {},
     "output_type": "execute_result"
    }
   ],
   "source": [
    "comb_3"
   ]
  },
  {
   "cell_type": "code",
   "execution_count": 7,
   "id": "38553c6b",
   "metadata": {},
   "outputs": [],
   "source": [
    "enz_names=['vmax_forward_Enzyme_A','vmax_forward_Enzyme_B',\"vmax_forward_Enzyme_C\",\n",
    "       \"vmax_forward_Enzyme_D\",\"vmax_forward_Enzyme_E\",\"vmax_forward_Enzyme_F\",\"vmax_forward_Enzyme_G\"]\n",
    "\n",
    "Cart1=comb_1['Cart']\n",
    "Cart2=comb_2['Cart']\n",
    "Cart3=comb_3['Cart']\n",
    "Cart4=comb_4['Cart']\n",
    "\n",
    "\n",
    "Flux1=comb_1['Enzyme_G']\n",
    "Flux2=comb_2['Enzyme_G']\n",
    "Flux3=comb_3['Enzyme_G']\n",
    "Flux4=comb_4['Enzyme_G']\n",
    "\n",
    "\n",
    "\n",
    "comb_designs=[]\n",
    "for k,i in enumerate(Cart1):\n",
    "    i=i.replace('(',\"\")\n",
    "    i=i.replace(')',\"\")\n",
    "    i=i.split(\",\")\n",
    "    i=tuple([float(x) for x in i])\n",
    "    temp=dict(zip(enz_names,tuple(i)))\n",
    "\n",
    "    temp['Enzyme_G']=Flux1[k]\n",
    "\n",
    "    comb_designs.append(temp)\n",
    "\n",
    "\n",
    "for k,i in enumerate(Cart2):\n",
    "    i=i.replace('(',\"\")\n",
    "    i=i.replace(')',\"\")\n",
    "    i=i.split(\",\")\n",
    "    i=tuple([float(x) for x in i])\n",
    "    temp=dict(zip(enz_names,tuple(i)))\n",
    "\n",
    "    temp['Enzyme_G']=Flux2[k]\n",
    "\n",
    "    comb_designs.append(temp)\n",
    "             \n",
    "\n",
    "\n",
    "for k,i in enumerate(Cart3):\n",
    "    i=i.replace('(',\"\")\n",
    "    i=i.replace(')',\"\")\n",
    "    i=i.split(\",\")\n",
    "    i=tuple([float(x) for x in i])\n",
    "    temp=dict(zip(enz_names,tuple(i)))\n",
    "    temp['Enzyme_G']=Flux3[k]\n",
    "    comb_designs.append(temp)\n",
    "    \n",
    "    \n",
    "for k,i in enumerate(Cart4):\n",
    "    i=i.replace('(',\"\")\n",
    "    i=i.replace(')',\"\")\n",
    "    i=i.split(\",\")\n",
    "    i=tuple([float(x) for x in i])\n",
    "    temp=dict(zip(enz_names,tuple(i)))\n",
    "    temp['Enzyme_G']=Flux4[k]\n",
    "    comb_designs.append(temp)\n",
    "    #comb_designs['Enzyme_G']=Flux4[i]\n",
    "    "
   ]
  },
  {
   "cell_type": "code",
   "execution_count": 8,
   "id": "4491d9f5",
   "metadata": {},
   "outputs": [
    {
     "data": {
      "text/plain": [
       "279936"
      ]
     },
     "execution_count": 8,
     "metadata": {},
     "output_type": "execute_result"
    }
   ],
   "source": [
    "len(comb_designs)\n"
   ]
  },
  {
   "cell_type": "code",
   "execution_count": 9,
   "id": "2f9e71e8",
   "metadata": {},
   "outputs": [],
   "source": [
    "simulated_space=pd.DataFrame(comb_designs)"
   ]
  },
  {
   "cell_type": "code",
   "execution_count": 13,
   "id": "f25327de",
   "metadata": {},
   "outputs": [],
   "source": [
    "simulated_space.to_csv(\"combinatorial_space_pathway_A.csv\",index=False)"
   ]
  },
  {
   "cell_type": "code",
   "execution_count": 22,
   "id": "3375590e",
   "metadata": {},
   "outputs": [
    {
     "data": {
      "text/plain": [
       "279935    279930\n",
       "279934    272154\n",
       "279933    264378\n",
       "279932    279714\n",
       "279931    271938\n",
       "           ...  \n",
       "279840    263718\n",
       "279839    254868\n",
       "279838    279054\n",
       "279837    271278\n",
       "279836    263502\n",
       "Name: Enzyme_G, Length: 100, dtype: int64"
      ]
     },
     "execution_count": 22,
     "metadata": {},
     "output_type": "execute_result"
    }
   ],
   "source": [
    "np.argsort(simulated_space['Enzyme_G'])[::-1][0:100]\n",
    "\n"
   ]
  },
  {
   "cell_type": "code",
   "execution_count": 33,
   "id": "4652f8dc",
   "metadata": {},
   "outputs": [
    {
     "data": {
      "text/plain": [
       "vmax_forward_Enzyme_A    4.000000\n",
       "vmax_forward_Enzyme_B    4.000000\n",
       "vmax_forward_Enzyme_C    4.000000\n",
       "vmax_forward_Enzyme_D    4.000000\n",
       "vmax_forward_Enzyme_E    4.000000\n",
       "vmax_forward_Enzyme_F    4.000000\n",
       "vmax_forward_Enzyme_G    0.500000\n",
       "Enzyme_G                 7.946944\n",
       "Name: 279931, dtype: float64"
      ]
     },
     "execution_count": 33,
     "metadata": {},
     "output_type": "execute_result"
    }
   ],
   "source": [
    "\n"
   ]
  },
  {
   "cell_type": "code",
   "execution_count": null,
   "id": "97c7ee8a",
   "metadata": {},
   "outputs": [],
   "source": []
  },
  {
   "cell_type": "code",
   "execution_count": null,
   "id": "1e163545",
   "metadata": {},
   "outputs": [],
   "source": []
  },
  {
   "cell_type": "markdown",
   "id": "ca1f5d41",
   "metadata": {},
   "source": [
    "# Combinatorial space plots"
   ]
  },
  {
   "cell_type": "code",
   "execution_count": 12,
   "id": "20dd62b0",
   "metadata": {},
   "outputs": [
    {
     "name": "stderr",
     "output_type": "stream",
     "text": [
      "/home/plent/anaconda3/envs/skimpy-env/lib/python3.8/site-packages/seaborn/distributions.py:2619: FutureWarning: `distplot` is a deprecated function and will be removed in a future version. Please adapt your code to use either `displot` (a figure-level function with similar flexibility) or `kdeplot` (an axes-level function for kernel density plots).\n",
      "  warnings.warn(msg, FutureWarning)\n"
     ]
    },
    {
     "data": {
      "image/png": "[encoded data removed]",
      "text/plain": [
       "<Figure size 432x288 with 1 Axes>"
      ]
     },
     "metadata": {
      "needs_background": "light"
     },
     "output_type": "display_data"
    }
   ],
   "source": [
    "import seaborn as sns\n",
    "# Density Plot and Histogram of all arrival delays\n",
    "plot=sns.distplot(simulated_space['Enzyme_G'], hist=False, kde=True, \n",
    "             bins=int(2000/5), color = 'darkblue', \n",
    "             hist_kws={'edgecolor':'black'},\n",
    "             kde_kws={'linewidth': 4})\n",
    "\n",
    "\n",
    "\n",
    "#plt.plot(base[:-1], len(simulated_space['Enzyme_G'])-cumulative, c='green')"
   ]
  },
  {
   "cell_type": "code",
   "execution_count": 133,
   "id": "10ec5e11",
   "metadata": {},
   "outputs": [
    {
     "data": {
      "text/plain": [
       "119936"
      ]
     },
     "execution_count": 133,
     "metadata": {},
     "output_type": "execute_result"
    }
   ],
   "source": [
    "len(simulated_space['Enzyme_G'])"
   ]
  },
  {
   "cell_type": "code",
   "execution_count": null,
   "id": "9d61f12d",
   "metadata": {},
   "outputs": [],
   "source": [
    "# evaluate the histogram\n",
    "values, base = np.histogram(simulated_space['Enzyme_G'], bins=10000)\n",
    "#evaluate the cumulative\n",
    "cumulative = np.cumsum(values)\n",
    "# plot the cumulative function\n",
    "plt.plot(base[:-1], cumulative/len(simulated_space['Enzyme_G']), c='blue')\n",
    "plt.axvline(1,c=\"black\",linestyle=\"--\",linewidth=1)\n",
    "\n",
    "\n",
    "#plot the survival function"
   ]
  }
 ],
 "metadata": {
  "kernelspec": {
   "display_name": "Python 3 (ipykernel)",
   "language": "python",
   "name": "python3"
  },
  "language_info": {
   "codemirror_mode": {
    "name": "ipython",
    "version": 3
   },
   "file_extension": ".py",
   "mimetype": "text/x-python",
   "name": "python",
   "nbconvert_exporter": "python",
   "pygments_lexer": "ipython3",
   "version": "3.8.13"
  }
 },
 "nbformat": 4,
 "nbformat_minor": 5
}
