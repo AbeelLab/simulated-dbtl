{
 "cells": [
  {
   "cell_type": "code",
   "execution_count": 75,
   "id": "68d35f4c",
   "metadata": {},
   "outputs": [],
   "source": [
    "from pytfa.io.json import load_json_model\n",
    "from skimpy.io.yaml import  load_yaml_model\n",
    "from skimpy.analysis.oracle.load_pytfa_solution import load_concentrations, load_fluxes\n",
    "from skimpy.core.parameters import ParameterValues\n",
    "from skimpy.utils.namespace import *\n",
    "from skimpy.core.modifiers import *\n",
    "from skimpy.io.yaml import load_yaml_model\n",
    "from skimpy.core.reactor import Reactor\n",
    "from skimpy.analysis.oracle.load_pytfa_solution import load_concentrations, load_fluxes\n",
    "from skimpy.viz.plotting import timetrace_plot\n",
    "from pytfa.io.json import load_json_model\n",
    "from skimpy.io.yaml import load_yaml_model\n",
    "from skimpy.analysis.oracle.load_pytfa_solution import load_concentrations\n",
    "from skimpy.core.parameters import load_parameter_population\n",
    "from skimpy.simulations.reactor import make_batch_reactor\n",
    "from skimpy.core.solution import ODESolutionPopulation\n",
    "from skimpy.utils.namespace import *\n",
    "from skimpy.viz.escher import animate_fluxes, plot_fluxes\n",
    "import copy\n",
    "from skimpy.io.yaml import export_to_yaml\n",
    "from skimpy.analysis.ode.utils import make_flux_fun\n",
    "\n",
    "import pandas as pd\n",
    "import numpy as np\n",
    "\n",
    "#import seaborn as sns\n",
    "import skimpy\n",
    "import time\n",
    "import matplotlib.pyplot as plt\n",
    "import itertools\n",
    "import matplotlib\n",
    "import sys\n",
    "sys.path.insert(1, '../functions/')\n",
    "\n",
    "# benchmark functions\n",
    "import simulation_functions as sf\n",
    "import scenarios as sc\n",
    "import visualizations as vis\n",
    "import noise as noise\n",
    "import comb_sampling as cs\n",
    "\n",
    "\n",
    "#ML methods\n",
    "from sklearn import svm\n",
    "from sklearn.linear_model import SGDRegressor\n",
    "from sklearn.pipeline import make_pipeline\n",
    "from sklearn.preprocessing import StandardScaler\n",
    "from sklearn.ensemble import RandomForestRegressor\n",
    "from sklearn.datasets import make_regression\n",
    "from sklearn.metrics import r2_score\n",
    "from sklearn.linear_model import ElasticNet\n",
    "from sklearn.neighbors import KNeighborsRegressor\n",
    "from sklearn.gaussian_process import GaussianProcessRegressor\n",
    "from sklearn.ensemble import GradientBoostingRegressor\n",
    "from sklearn.neural_network import MLPRegressor\n",
    "from sklearn.ensemble import  AdaBoostRegressor\n",
    "from scipy.stats import linregress\n",
    "\n",
    "from skopt import BayesSearchCV\n",
    "import seaborn as sns"
   ]
  },
  {
   "cell_type": "code",
   "execution_count": 76,
   "id": "7486962b",
   "metadata": {},
   "outputs": [],
   "source": [
    "def find_set_designs(comb_space,tcart,enz_names):\n",
    "    \"\"\"finds the training or test set designs in the combinatorial space\n",
    "    Number of features has to be given\n",
    "    - combinatorial space\n",
    "    - cart of either the training scenario or the test set\n",
    "    - enzyme names\"\"\"\n",
    "    temp=0\n",
    "    tset = pd.DataFrame()\n",
    "    for design in tcart:\n",
    "        sub=comb_space\n",
    "        sub=sub.loc[sub['vmax_forward_Enzyme_A']==design[0]]\n",
    "        sub=sub.loc[sub['vmax_forward_Enzyme_B']==design[1]]\n",
    "        sub=sub.loc[sub['vmax_forward_Enzyme_C']==design[2]]\n",
    "        sub=sub.loc[sub['vmax_forward_Enzyme_D']==design[3]]\n",
    "        sub=sub.loc[sub['vmax_forward_Enzyme_E']==design[4]]\n",
    "        sub=sub.loc[sub['vmax_forward_Enzyme_F']==design[5]]\n",
    "        sub=sub.loc[sub['vmax_forward_Enzyme_G']==design[6]]\n",
    "        tset=pd.concat([tset,sub])\n",
    "    return tset,tcart\n"
   ]
  },
  {
   "cell_type": "markdown",
   "id": "17cdcbee",
   "metadata": {},
   "source": [
    "## DBTL cycle 1"
   ]
  },
  {
   "cell_type": "code",
   "execution_count": 77,
   "id": "f67c8d8e",
   "metadata": {},
   "outputs": [],
   "source": [
    "#Load simulations\n",
    "comb_space=pd.read_csv(\"../data/combinatorial_space/combinatorial_space_pathway_A.csv\")\n",
    "\n",
    "#enzyme names and perturbation range\n",
    "enz_names=[\"vmax_forward_Enzyme_A\",\"vmax_forward_Enzyme_B\",\"vmax_forward_Enzyme_C\",\"vmax_forward_Enzyme_D\",\n",
    "           \"vmax_forward_Enzyme_E\",\"vmax_forward_Enzyme_F\",\"vmax_forward_Enzyme_G\"] #'vmax_forward_LDH_D',\n",
    "perturb_range=[0.25,0.5,1,1.5,2,4]\n",
    "designs,cart=sf.generate_perturbation_scheme(enz_names,perturb_range)\n",
    "N_designs=100\n",
    "noise_percentage=0.04"
   ]
  },
  {
   "cell_type": "code",
   "execution_count": 78,
   "id": "18086089",
   "metadata": {},
   "outputs": [],
   "source": [
    "# Latin hypercube sampling\n",
    "cyc1_designs,cyc1_cart=sc.scenario1(perturb_range,N_designs,enz_names)\n",
    "\n",
    "training_cyc1,training_cart=find_set_designs(comb_space,cyc1_cart,enz_names) \n",
    "\n",
    "#add noise\n",
    "noise_G=noise.add_homoschedastic_noise(training_cyc1['Enzyme_G'],noise_percentage)\n",
    "training_cyc1['Enzyme_G']=noise_G\n",
    "\n",
    "#training and test split\n",
    "train_x=training_cyc1[enz_names]\n",
    "train_y=training_cyc1['Enzyme_G']\n",
    "test_x=comb_space[enz_names]\n",
    "test_y=comb_space['Enzyme_G']"
   ]
  },
  {
   "cell_type": "code",
   "execution_count": 79,
   "id": "3ec777c9",
   "metadata": {},
   "outputs": [
    {
     "name": "stdout",
     "output_type": "stream",
     "text": [
      "RandomForestRegressor(max_depth=7, min_samples_leaf=2)\n"
     ]
    }
   ],
   "source": [
    "#random forest \n",
    "regr_rf = BayesSearchCV(\n",
    "RandomForestRegressor(),\n",
    "{\n",
    "    \"min_samples_split\":(2,3,4,5,6,7),\n",
    "    \"min_samples_leaf\":(2,3,4,5,6,7),\n",
    "    \"max_depth\": (1,2,3,4,5,7),\n",
    "},\n",
    "n_iter=15,\n",
    "cv=5)\n",
    "regr_rf.fit(train_x,train_y)\n",
    "print(regr_rf.best_estimator_)\n",
    "predict_rf=regr_rf.predict(test_x)\n",
    "slope, intercept, r_value, p_value, std_err = linregress(test_y,predict_rf)\n",
    "score_rf=r_value**2\n"
   ]
  },
  {
   "cell_type": "code",
   "execution_count": 80,
   "id": "7e17674a",
   "metadata": {},
   "outputs": [
    {
     "name": "stdout",
     "output_type": "stream",
     "text": [
      "0.8037784822219792\n",
      "9\n"
     ]
    }
   ],
   "source": [
    "pred_rf=regr_rf.predict(test_x)\n",
    "top100=np.argsort(test_y)[::-1][0:100]\n",
    "top100_rf=np.argsort(pred_rf)[::-1][0:100]\n",
    "\n",
    "top100_rf=len(np.intersect1d(top100,top100_rf))\n",
    "print(score_rf)\n",
    "print(top100_rf)"
   ]
  },
  {
   "cell_type": "markdown",
   "id": "986e59b6",
   "metadata": {},
   "source": [
    "## Some visualization\n",
    "So for this first run, no top 100 design is found. Then, we use a new distribution to sample from.\n",
    "\n",
    "\n",
    "Three ideas:\n",
    "1. Set threshold based on the reduction of the search space (so given the cumulative distribution, set threshold by using frequencies \n",
    "2. Set threshold based on probability distribution from feature importance function.\n",
    "3. Just predict a top X and then sample from this list\n"
   ]
  },
  {
   "cell_type": "code",
   "execution_count": 81,
   "id": "8e21597f",
   "metadata": {},
   "outputs": [
    {
     "data": {
      "image/png": "[encoded data removed]",
      "text/plain": [
       "<Figure size 432x288 with 1 Axes>"
      ]
     },
     "metadata": {
      "needs_background": "light"
     },
     "output_type": "display_data"
    },
    {
     "data": {
      "image/png": "[encoded data removed]",
      "text/plain": [
       "<Figure size 432x288 with 1 Axes>"
      ]
     },
     "metadata": {
      "needs_background": "light"
     },
     "output_type": "display_data"
    }
   ],
   "source": [
    "pred_comb_space=comb_space.copy()\n",
    "pred_comb_space['Enzyme_G']=predict_rf.copy()\n",
    "\n",
    "threshold,matrix_pred,remaining_designs_pred=cs.scan_combinatorial_space(pred_comb_space,\n",
    "                                                                         perturb_range,enz_names,0.005)\n",
    "#plot=sns.kdeplot(pred_rf,c=\"#42B540FF\",label=\"Random Forest\",linewidth=3)\n",
    "\n",
    "A025=[]\n",
    "A05=[]\n",
    "A1=[]\n",
    "A15=[]\n",
    "A2=[]\n",
    "A4=[]\n",
    "\n",
    "#Rows are perturbation ranges (0.25,0.5,1,1.5,2,4)\n",
    "#Columns are enzymes\n",
    "\n",
    "enz=0\n",
    "for i in range(np.shape(matrix_pred)[2]):\n",
    "    A025.append(matrix_pred[0,enz,i])\n",
    "    A05.append(matrix_pred[1,enz,i])\n",
    "    A1.append(matrix_pred[2,enz,i])\n",
    "    A15.append(matrix_pred[3,enz,i])\n",
    "    A2.append(matrix_pred[4,enz,i])\n",
    "    A4.append(matrix_pred[5,enz,i])\n",
    "    \n",
    "    \n",
    "plt.plot(threshold,A025,label=\"0.25\",linewidth=2)\n",
    "plt.plot(threshold,A05,label=\"0.5\",linewidth=2)\n",
    "plt.plot(threshold,A1,label=\"1\",linewidth=2)\n",
    "plt.plot(threshold,A15,label=\"1.5\",linewidth=2)\n",
    "plt.plot(threshold,A2,label=\"2\",linewidth=2)\n",
    "plt.plot(threshold,A4,label=\"4\",linewidth=2)\n",
    "#plt.plot(threshold,remaining_designs,c=\"black\",label=\"Remaining designs space\",linewidth=3,linestyle=\"--\")\n",
    "plt.axhline(1/6,c=\"black\",linestyle=\"--\")\n",
    "plt.legend(title=\"Promoter strength\",bbox_to_anchor=(1.,1))\n",
    "plt.ylabel(\"Frequency\")\n",
    "plt.xlabel(\"Relative flux increase\")\n",
    "plt.title(str(enz_names[enz]))\n",
    "plt.show()\n",
    "\n",
    "# evaluate the histogram\n",
    "values, base = np.histogram(pred_rf, bins=10000)\n",
    "#evaluate the cumulative\n",
    "cumulative = np.cumsum(values)\n",
    "# plot the cumulative function\n",
    "plt.plot(base[:-1], cumulative/len(comb_space['Enzyme_G']), c='#ED000099',linewidth=3)\n",
    "plt.xlabel(\"Relative flux increase\")\n",
    "plt.ylabel(\"Cumulative probability\")\n",
    "plt.axvline(1,c=\"black\",linestyle=\"--\",linewidth=1)\n",
    "plt.show()\n"
   ]
  },
  {
   "cell_type": "code",
   "execution_count": 82,
   "id": "dce851e3",
   "metadata": {},
   "outputs": [],
   "source": [
    "enz_numbers,sorted_entropies,probability_matrix=cs.get_feature_importance(matrix_pred,pred_comb_space)"
   ]
  },
  {
   "cell_type": "markdown",
   "id": "d03a5800",
   "metadata": {},
   "source": [
    "## DBTL cycle 2"
   ]
  },
  {
   "cell_type": "code",
   "execution_count": 83,
   "id": "8b005b04",
   "metadata": {},
   "outputs": [],
   "source": [
    "#Given the probability distribution, make new designs\n",
    "cyc2_designs,cyc2_cart=sc.manual_scenario(perturb_range,N_designs,probability_matrix,enz_names)\n",
    "\n",
    "\n",
    "training_cyc2,training_cart=find_set_designs(comb_space,cyc2_cart,enz_names) \n",
    "\n",
    "#add noise\n",
    "noise_G=noise.add_homoschedastic_noise(training_cyc2['Enzyme_G'],noise_percentage)\n",
    "training_cyc2['Enzyme_G']=noise_G\n",
    "dfs=[training_cyc1,training_cyc2]\n",
    "training_cyc=pd.concat(dfs)\n",
    "\n",
    "#training and test split\n",
    "train_x=training_cyc[enz_names]\n",
    "train_y=training_cyc['Enzyme_G']\n"
   ]
  },
  {
   "cell_type": "code",
   "execution_count": 84,
   "id": "76a9885a",
   "metadata": {},
   "outputs": [
    {
     "name": "stdout",
     "output_type": "stream",
     "text": [
      "RandomForestRegressor(max_depth=7, min_samples_leaf=5, min_samples_split=6)\n"
     ]
    }
   ],
   "source": [
    "#random forest \n",
    "regr_rf = BayesSearchCV(\n",
    "RandomForestRegressor(),\n",
    "{\n",
    "    \"min_samples_split\":(2,3,4,5,6,7),\n",
    "    \"min_samples_leaf\":(2,3,4,5,6,7),\n",
    "    \"max_depth\": (1,2,3,4,5,7),\n",
    "},\n",
    "n_iter=15,\n",
    "cv=5)\n",
    "regr_rf.fit(train_x,train_y)\n",
    "print(regr_rf.best_estimator_)\n",
    "predict_rf=regr_rf.predict(test_x)\n",
    "slope, intercept, r_value, p_value, std_err = linregress(test_y,predict_rf)\n",
    "score_rf=r_value**2"
   ]
  },
  {
   "cell_type": "code",
   "execution_count": 85,
   "id": "03f77aa1",
   "metadata": {},
   "outputs": [
    {
     "name": "stdout",
     "output_type": "stream",
     "text": [
      "0.8477149536030489\n",
      "48\n"
     ]
    }
   ],
   "source": [
    "pred_rf=regr_rf.predict(test_x)\n",
    "top100=np.argsort(test_y)[::-1][0:100]\n",
    "top100_rf=np.argsort(pred_rf)[::-1][0:100]\n",
    "\n",
    "top100_rf=len(np.intersect1d(top100,top100_rf))\n",
    "print(score_rf)\n",
    "print(top100_rf)"
   ]
  },
  {
   "cell_type": "code",
   "execution_count": 86,
   "id": "6fe11d30",
   "metadata": {},
   "outputs": [],
   "source": [
    "pred_comb_space=comb_space.copy()\n",
    "pred_comb_space['Enzyme_G']=predict_rf.copy()\n",
    "\n",
    "threshold,matrix_pred,remaining_designs_pred=cs.scan_combinatorial_space(pred_comb_space,\n",
    "                                                                         perturb_range,enz_names,0.005)\n",
    "enz_numbers,sorted_entropies,probability_matrix=cs.get_feature_importance(matrix_pred,pred_comb_space)"
   ]
  },
  {
   "cell_type": "markdown",
   "id": "750f444d",
   "metadata": {},
   "source": [
    "## DBTL cycle 3"
   ]
  },
  {
   "cell_type": "code",
   "execution_count": 87,
   "id": "46b91b87",
   "metadata": {},
   "outputs": [],
   "source": [
    "#Given the probability distribution, make new designs\n",
    "cyc3_designs,cyc3_cart=sc.manual_scenario(perturb_range,N_designs,probability_matrix,enz_names)\n",
    "\n",
    "\n",
    "training_cyc3,training_cart=find_set_designs(comb_space,cyc3_cart,enz_names) \n",
    "\n",
    "#add noise\n",
    "noise_G=noise.add_homoschedastic_noise(training_cyc3['Enzyme_G'],noise_percentage)\n",
    "training_cyc3['Enzyme_G']=noise_G\n",
    "dfs=[training_cyc1,training_cyc2,training_cyc3]\n",
    "training_cyc=pd.concat(dfs)\n",
    "\n",
    "#training and test split\n",
    "train_x=training_cyc[enz_names]\n",
    "train_y=training_cyc['Enzyme_G']"
   ]
  },
  {
   "cell_type": "code",
   "execution_count": 88,
   "id": "10154532",
   "metadata": {},
   "outputs": [
    {
     "name": "stdout",
     "output_type": "stream",
     "text": [
      "RandomForestRegressor(max_depth=7, min_samples_leaf=2, min_samples_split=3)\n"
     ]
    }
   ],
   "source": [
    "#random forest \n",
    "regr_rf = BayesSearchCV(\n",
    "RandomForestRegressor(),\n",
    "{\n",
    "    \"min_samples_split\":(2,3,4,5,6,7),\n",
    "    \"min_samples_leaf\":(2,3,4,5,6,7),\n",
    "    \"max_depth\": (1,2,3,4,5,7),\n",
    "},\n",
    "n_iter=15,\n",
    "cv=5)\n",
    "regr_rf.fit(train_x,train_y)\n",
    "print(regr_rf.best_estimator_)\n",
    "predict_rf=regr_rf.predict(test_x)\n",
    "slope, intercept, r_value, p_value, std_err = linregress(test_y,predict_rf)\n",
    "score_rf=r_value**2"
   ]
  },
  {
   "cell_type": "code",
   "execution_count": 89,
   "id": "5b328e45",
   "metadata": {},
   "outputs": [
    {
     "name": "stdout",
     "output_type": "stream",
     "text": [
      "0.9352467956786138\n",
      "52\n"
     ]
    }
   ],
   "source": [
    "pred_rf=regr_rf.predict(test_x)\n",
    "top100=np.argsort(test_y)[::-1][0:100]\n",
    "top100_rf=np.argsort(pred_rf)[::-1][0:100]\n",
    "\n",
    "top100_rf=len(np.intersect1d(top100,top100_rf))\n",
    "print(score_rf)\n",
    "print(top100_rf)"
   ]
  },
  {
   "cell_type": "code",
   "execution_count": 90,
   "id": "5684d4d5",
   "metadata": {},
   "outputs": [],
   "source": [
    "pred_comb_space=comb_space.copy()\n",
    "pred_comb_space['Enzyme_G']=predict_rf.copy()\n",
    "\n",
    "threshold,matrix_pred,remaining_designs_pred=cs.scan_combinatorial_space(pred_comb_space,\n",
    "                                                                         perturb_range,enz_names,0.005)\n",
    "enz_numbers,sorted_entropies,probability_matrix=cs.get_feature_importance(matrix_pred,pred_comb_space)"
   ]
  },
  {
   "cell_type": "markdown",
   "id": "3762f5d5",
   "metadata": {},
   "source": [
    "## DBTL cycle 4"
   ]
  },
  {
   "cell_type": "code",
   "execution_count": 91,
   "id": "16a4d534",
   "metadata": {},
   "outputs": [],
   "source": [
    "#Given the probability distribution, make new designs\n",
    "cyc4_designs,cyc4_cart=sc.manual_scenario(perturb_range,N_designs,probability_matrix,enz_names)\n",
    "\n",
    "\n",
    "training_cyc4,training_cart=find_set_designs(comb_space,cyc4_cart,enz_names) \n",
    "\n",
    "#add noise\n",
    "noise_G=noise.add_homoschedastic_noise(training_cyc4['Enzyme_G'],noise_percentage)\n",
    "training_cyc4['Enzyme_G']=noise_G\n",
    "dfs=[training_cyc1,training_cyc2,training_cyc3,training_cyc4]\n",
    "training_cyc=pd.concat(dfs)\n",
    "\n",
    "#training and test split\n",
    "train_x=training_cyc[enz_names]\n",
    "train_y=training_cyc['Enzyme_G']"
   ]
  },
  {
   "cell_type": "code",
   "execution_count": 92,
   "id": "e5d4744b",
   "metadata": {},
   "outputs": [
    {
     "name": "stdout",
     "output_type": "stream",
     "text": [
      "RandomForestRegressor(max_depth=7, min_samples_leaf=3, min_samples_split=5)\n"
     ]
    }
   ],
   "source": [
    "#random forest \n",
    "regr_rf = BayesSearchCV(\n",
    "RandomForestRegressor(),\n",
    "{\n",
    "    \"min_samples_split\":(2,3,4,5,6,7),\n",
    "    \"min_samples_leaf\":(2,3,4,5,6,7),\n",
    "    \"max_depth\": (1,2,3,4,5,7),\n",
    "},\n",
    "n_iter=15,\n",
    "cv=5)\n",
    "regr_rf.fit(train_x,train_y)\n",
    "print(regr_rf.best_estimator_)\n",
    "predict_rf=regr_rf.predict(test_x)\n",
    "slope, intercept, r_value, p_value, std_err = linregress(test_y,predict_rf)\n",
    "score_rf=r_value**2"
   ]
  },
  {
   "cell_type": "code",
   "execution_count": 93,
   "id": "cb4797ac",
   "metadata": {},
   "outputs": [
    {
     "name": "stdout",
     "output_type": "stream",
     "text": [
      "0.9313378068912588\n",
      "30\n"
     ]
    }
   ],
   "source": [
    "pred_rf=regr_rf.predict(test_x)\n",
    "top100=np.argsort(test_y)[::-1][0:100]\n",
    "top100_rf=np.argsort(pred_rf)[::-1][0:100]\n",
    "\n",
    "top100_rf=len(np.intersect1d(top100,top100_rf))\n",
    "print(score_rf)\n",
    "print(top100_rf)\n",
    "\n",
    "pred_comb_space=comb_space.copy()\n",
    "pred_comb_space['Enzyme_G']=predict_rf.copy()\n",
    "\n",
    "threshold,matrix_pred,remaining_designs_pred=cs.scan_combinatorial_space(pred_comb_space,\n",
    "                                                                         perturb_range,enz_names,0.005)\n",
    "#plot=sns.kdeplot(pred_rf,c=\"#42B540FF\",label=\"Random Forest\",linewidth=3)\n"
   ]
  },
  {
   "cell_type": "markdown",
   "id": "204cfb54",
   "metadata": {},
   "source": [
    "## DBTL cycle 5"
   ]
  },
  {
   "cell_type": "code",
   "execution_count": 94,
   "id": "aef6fa6e",
   "metadata": {},
   "outputs": [],
   "source": [
    "#Given the probability distribution, make new designs\n",
    "cyc5_designs,cyc5_cart=sc.manual_scenario(perturb_range,N_designs,probability_matrix,enz_names)\n",
    "\n",
    "\n",
    "training_cyc5,training_cart=find_set_designs(comb_space,cyc5_cart,enz_names) \n",
    "\n",
    "#add noise\n",
    "noise_G=noise.add_homoschedastic_noise(training_cyc5['Enzyme_G'],noise_percentage)\n",
    "training_cyc5['Enzyme_G']=noise_G\n",
    "dfs=[training_cyc1,training_cyc2,training_cyc3,training_cyc4,training_cyc5]\n",
    "training_cyc=pd.concat(dfs)\n",
    "\n",
    "#training and test split\n",
    "train_x=training_cyc[enz_names]\n",
    "train_y=training_cyc['Enzyme_G']"
   ]
  },
  {
   "cell_type": "code",
   "execution_count": 95,
   "id": "cd8bc7b6",
   "metadata": {},
   "outputs": [
    {
     "name": "stdout",
     "output_type": "stream",
     "text": [
      "RandomForestRegressor(max_depth=7, min_samples_leaf=3, min_samples_split=6)\n"
     ]
    }
   ],
   "source": [
    "#random forest \n",
    "regr_rf = BayesSearchCV(\n",
    "RandomForestRegressor(),\n",
    "{\n",
    "    \"min_samples_split\":(2,3,4,5,6,7),\n",
    "    \"min_samples_leaf\":(2,3,4,5,6,7),\n",
    "    \"max_depth\": (1,2,3,4,5,7),\n",
    "},\n",
    "n_iter=15,\n",
    "cv=5)\n",
    "regr_rf.fit(train_x,train_y)\n",
    "print(regr_rf.best_estimator_)\n",
    "predict_rf=regr_rf.predict(test_x)\n",
    "slope, intercept, r_value, p_value, std_err = linregress(test_y,predict_rf)\n",
    "score_rf=r_value**2"
   ]
  },
  {
   "cell_type": "code",
   "execution_count": 96,
   "id": "c7426fbe",
   "metadata": {},
   "outputs": [
    {
     "name": "stdout",
     "output_type": "stream",
     "text": [
      "0.9356398134004559\n",
      "11\n"
     ]
    }
   ],
   "source": [
    "pred_rf=regr_rf.predict(test_x)\n",
    "top100=np.argsort(test_y)[::-1][0:100]\n",
    "top100_rf=np.argsort(pred_rf)[::-1][0:100]\n",
    "\n",
    "top100_rf=len(np.intersect1d(top100,top100_rf))\n",
    "print(score_rf)\n",
    "print(top100_rf)\n",
    "\n",
    "pred_comb_space=comb_space.copy()\n",
    "pred_comb_space['Enzyme_G']=predict_rf.copy()\n"
   ]
  }
 ],
 "metadata": {
  "kernelspec": {
   "display_name": "Python 3 (ipykernel)",
   "language": "python",
   "name": "python3"
  },
  "language_info": {
   "codemirror_mode": {
    "name": "ipython",
    "version": 3
   },
   "file_extension": ".py",
   "mimetype": "text/x-python",
   "name": "python",
   "nbconvert_exporter": "python",
   "pygments_lexer": "ipython3",
   "version": "3.8.13"
  }
 },
 "nbformat": 4,
 "nbformat_minor": 5
}
