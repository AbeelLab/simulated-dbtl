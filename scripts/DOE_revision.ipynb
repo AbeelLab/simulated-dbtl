{
 "cells": [
  {
   "cell_type": "code",
   "execution_count": 2,
   "metadata": {},
   "outputs": [],
   "source": [
    "import dexpy.optimal\n",
    "from dexpy.model import ModelOrder\n",
    "import numpy as np\n",
    "\n",
    "import matplotlib.pyplot as plt\n",
    "\n",
    "from dexpy.model import make_model, ModelOrder\n",
    "from patsy import dmatrix\n",
    "import numpy as np\n",
    "\n",
    "import os\n",
    "import sys\n",
    "sys.path.append(\"../../Benchmark/functions/\")\n",
    "import pandas as pd\n",
    "\n",
    "import scenarios as sc"
   ]
  },
  {
   "cell_type": "code",
   "execution_count": 3,
   "metadata": {},
   "outputs": [],
   "source": [
    "def closest_value(input_list, input_value):\n",
    "    arr = np.asarray(input_list)\n",
    "    i = (np.abs(arr - input_value)).argmin()\n",
    "    return arr[i]\n",
    "\n",
    "promoter_list=[0.25, 0.5, 1, 1.5,2,4]\n",
    "def clip_on_simulated_values(recommendations1,promoter_list):\n",
    "    for i,k in enumerate(recommendations1):\n",
    "        # print(i)\n",
    "        x=recommendations1[k]\n",
    "        for j,l in enumerate(x):\n",
    "            close=closest_value(promoter_list,l)\n",
    "            # print(close)\n",
    "            recommendations1.iloc[j,i]=close\n",
    "    return recommendations1\n",
    "\n",
    "#helper functions\n",
    "def find_set_designs(comb_space,tcart,enz_names):\n",
    "    \"\"\"finds the training or test set designs in the combinatorial space\n",
    "    Number of features has to be given\n",
    "    - combinatorial space\n",
    "    - cart of either the training scenario or the test set\n",
    "    - enzyme names\"\"\"\n",
    "    temp=0\n",
    "    tset = pd.DataFrame()\n",
    "    for design in tcart:\n",
    "        sub=comb_space\n",
    "        sub=sub.loc[sub['vmax_forward_Enzyme_A']==design[0]]\n",
    "        sub=sub.loc[sub['vmax_forward_Enzyme_B']==design[1]]\n",
    "        sub=sub.loc[sub['vmax_forward_Enzyme_C']==design[2]]\n",
    "        sub=sub.loc[sub['vmax_forward_Enzyme_D']==design[3]]\n",
    "        sub=sub.loc[sub['vmax_forward_Enzyme_E']==design[4]]\n",
    "        sub=sub.loc[sub['vmax_forward_Enzyme_F']==design[5]]\n",
    "        sub=sub.loc[sub['vmax_forward_Enzyme_G']==design[6]]\n",
    "        tset=pd.concat([tset,sub])\n",
    "    return tset,tcart\n",
    "\n",
    "def D_efficiency(D1,D2):\n",
    "    return (D1/D2)**(1/36)\n",
    "\n",
    "\n",
    "def train_model(train_x,train_y):\n",
    "    #random forest \n",
    "    regr_gbr = BayesSearchCV(\n",
    "    GradientBoostingRegressor(),\n",
    "    {\n",
    "        \"min_samples_split\":(2,3,4,5,6,7,8),\n",
    "        \"min_samples_leaf\":(2,3,4,5,6,7,8),\n",
    "        \"max_depth\": (1,2,3,4,5,7,8),\n",
    "        \"learning_rate\":(0.00001,0.0001,0.001,0.01,0.1,0.2,0.3),\n",
    "    },\n",
    "    n_iter=20,\n",
    "    cv=5)\n",
    "    regr_gbr.fit(train_x,train_y)\n",
    "    return regr_gbr\n"
   ]
  },
  {
   "cell_type": "code",
   "execution_count": 110,
   "metadata": {},
   "outputs": [],
   "source": [
    "def Doptimal_Design(N_samples):\n",
    "    column_names=['vmax_forward_enzyme_A',\"vmax_forward_enzyme_B\",\"vmax_forward_enzyme_C\",\n",
    "                \"vmax_forward_enzyme_D\",\"vmax_forward_enzyme_E\",\"vmax_forward_enzyme_F\",\"vmax_forward_enzyme_G\"]\n",
    "    promoter_list=[0.25, 0.5, 1, 1.5,2,4]\n",
    "    lows=np.array(0.25)+np.zeros(7)\n",
    "    highs=np.array(4)+np.zeros(7)\n",
    "\n",
    "\n",
    "    actual_lows=dict(zip(column_names,lows))\n",
    "    actual_highs=dict(zip(column_names,highs))\n",
    "\n",
    "    reaction_design=dexpy.optimal.build_optimal(7,run_count=N_samples, order=ModelOrder.quadratic)\n",
    "    reaction_design.columns=column_names\n",
    "    reaction_design=dexpy.design.coded_to_actual(reaction_design, actual_lows, actual_highs)\n",
    "\n",
    "    #clip on simulated values\n",
    "    reaction_design=clip_on_simulated_values(reaction_design,promoter_list)\n",
    "\n",
    "    quad_model = make_model(reaction_design.columns, ModelOrder.quadratic)\n",
    "    X = dmatrix(quad_model, reaction_design)\n",
    "    XtX = np.dot(np.transpose(X), X)\n",
    "    d = np.linalg.det(XtX)\n",
    "    return reaction_design,d\n"
   ]
  },
  {
   "cell_type": "code",
   "execution_count": 104,
   "metadata": {},
   "outputs": [],
   "source": [
    "def Random_Design(N_samples):\n",
    "    column_names=['vmax_forward_enzyme_A',\"vmax_forward_enzyme_B\",\"vmax_forward_enzyme_C\",\n",
    "                \"vmax_forward_enzyme_D\",\"vmax_forward_enzyme_E\",\"vmax_forward_enzyme_F\",\"vmax_forward_enzyme_G\"]\n",
    "    x,y=sc.scenario1(promoter_list,N_samples,column_names)\n",
    "    reaction_design=pd.DataFrame(y,columns=column_names)\n",
    "    quad_model = make_model(reaction_design.columns, ModelOrder.quadratic)\n",
    "    X = dmatrix(quad_model, reaction_design)\n",
    "    XtX = np.dot(np.transpose(X), X)\n",
    "    d = np.linalg.det(XtX)\n",
    "    return reaction_design,d\n",
    "\n"
   ]
  },
  {
   "cell_type": "code",
   "execution_count": 48,
   "metadata": {},
   "outputs": [],
   "source": [
    "from scipy.stats import qmc\n",
    "def LatinHypercubeDesign(N_samples):\n",
    "    column_names=['vmax_forward_enzyme_A',\"vmax_forward_enzyme_B\",\"vmax_forward_enzyme_C\",\n",
    "            \"vmax_forward_enzyme_D\",\"vmax_forward_enzyme_E\",\"vmax_forward_enzyme_F\",\"vmax_forward_enzyme_G\"]\n",
    "    promoter_list=[0.25, 0.5, 1, 1.5,2,4]\n",
    "    lows=np.array(0.25)+np.zeros(7)\n",
    "    highs=np.array(4)+np.zeros(7)\n",
    "    \n",
    "    \n",
    "    x=qmc.LatinHypercube(d=7)\n",
    "    x=x.random(n=N_samples)\n",
    "    x=pd.DataFrame(qmc.scale(x,lows,highs))\n",
    "    x.columns=column_names\n",
    "    \n",
    "    reaction_design=clip_on_simulated_values(x,promoter_list)\n",
    "\n",
    "    quad_model = make_model(reaction_design.columns, ModelOrder.quadratic)\n",
    "    X = dmatrix(quad_model, reaction_design)\n",
    "    XtX = np.dot(np.transpose(X), X)\n",
    "    d = np.linalg.det(XtX)\n",
    "    \n",
    "    return reaction_design,d\n",
    "\n",
    "\n",
    "\n"
   ]
  },
  {
   "cell_type": "code",
   "execution_count": 124,
   "metadata": {},
   "outputs": [
    {
     "name": "stdout",
     "output_type": "stream",
     "text": [
      "0\n",
      "0.24807744397500103\n",
      "0.25728774813328975\n",
      "1\n",
      "0.2562443375245502\n",
      "0.26415348921966714\n",
      "2\n",
      "0.17409382171412507\n",
      "0.22744212062722188\n",
      "3\n",
      "0.1651395933078524\n",
      "0.25908403023049653\n",
      "4\n",
      "0.2250790121711996\n",
      "0.24568186152503288\n",
      "5\n",
      "0.20158497910921536\n",
      "0.23126319587711477\n",
      "6\n",
      "0.2332364730918684\n",
      "0.25071039767855385\n",
      "7\n",
      "0.19524127218869397\n",
      "0.2469796930979849\n",
      "8\n",
      "0.24188782264617784\n",
      "0.2536560668183012\n",
      "9\n",
      "0.21934459349114035\n",
      "0.24941596911270633\n",
      "10\n",
      "0.1866016902283364\n",
      "0.25777115989756977\n",
      "11\n",
      "0.26852379417120387\n",
      "0.24728939478556133\n",
      "12\n",
      "0.2568132877996033\n",
      "0.2584201690959122\n",
      "13\n",
      "0.2592381255519093\n",
      "0.22949394462748585\n",
      "14\n",
      "0.2312268291374786\n",
      "0.25478861360405375\n",
      "15\n",
      "0.21482950496563355\n",
      "0.255965550943758\n",
      "16\n",
      "0.18371673535333932\n",
      "0.23563767891634813\n",
      "17\n",
      "0.2188916566098507\n",
      "0.27394792945151974\n",
      "18\n",
      "0.1747654200786318\n",
      "0.231120031532328\n",
      "19\n",
      "0.22928072771347416\n",
      "0.2677344061771928\n",
      "0\n",
      "0.37916633876509587\n",
      "0.36487349643696015\n",
      "1\n",
      "0.4004442471029862\n",
      "0.3612907515098973\n",
      "2\n",
      "0.36052755800850456\n",
      "0.3649756753979164\n",
      "3\n",
      "0.3341200155393284\n",
      "0.36869611199622687\n",
      "4\n",
      "0.38800860441563007\n",
      "0.37808798520219006\n",
      "5\n",
      "0.35989103359011454\n",
      "0.36358027149319433\n",
      "6\n",
      "0.3817248799790409\n",
      "0.37044391314882125\n",
      "7\n",
      "0.3913129211472012\n",
      "0.3672204631538488\n",
      "8\n",
      "0.3916975053022577\n",
      "0.37386331166016673\n",
      "9\n",
      "0.3440384178506156\n",
      "0.369013106320041\n",
      "10\n",
      "0.38837324143931085\n",
      "0.3680219946697763\n",
      "11\n",
      "0.3755505070476424\n",
      "0.37150882293015697\n",
      "12\n",
      "0.36539666163438833\n",
      "0.3633639701336639\n",
      "13\n",
      "0.34139942409230045\n",
      "0.3727593990378685\n",
      "14\n",
      "0.36768350613754885\n",
      "0.36395674520796856\n",
      "15\n",
      "0.3545627357156686\n",
      "0.36826085356734745\n",
      "16\n",
      "0.38896542313587756\n",
      "0.3618477712237214\n",
      "17\n",
      "0.3932759552361643\n",
      "0.3659363297961716\n",
      "18\n",
      "0.38865922334557246\n",
      "0.36569650125606123\n",
      "19\n",
      "0.4098673292139817\n",
      "0.3720990041950006\n"
     ]
    }
   ],
   "source": [
    "N_samples=[50,200]\n",
    "\n",
    "eff_random_dict={}\n",
    "eff_lhs_dict={}\n",
    "for i in N_samples:\n",
    "    efficiency_random_list=[]\n",
    "    efficiency_LHS_list=[]\n",
    "    for j in range(20):\n",
    "        print(j)\n",
    "        Random_Designs,d_random=Random_Design(i)\n",
    "        Doptimal_Designs,d_doptimal=Doptimal_Design(i)\n",
    "        LHS_designs,d_LHS=LatinHypercubeDesign(i)\n",
    "\n",
    "        efficiency_random=D_efficiency(d_random,d_doptimal)\n",
    "        print(efficiency_random)\n",
    "        efficiency_LHS=D_efficiency(d_LHS,d_doptimal)\n",
    "        print(efficiency_LHS)\n",
    "        efficiency_LHS_list.append(efficiency_LHS)\n",
    "        efficiency_random_list.append(efficiency_random)\n",
    "    eff_random_dict[str(i)]=efficiency_random_list\n",
    "    eff_lhs_dict[str(i)]=efficiency_LHS_list"
   ]
  },
  {
   "cell_type": "code",
   "execution_count": 134,
   "metadata": {},
   "outputs": [],
   "source": [
    "RS=pd.DataFrame(eff_random_dict)\n",
    "LHS=pd.DataFrame(eff_lhs_dict)\n",
    "RS.to_csv(\"../../Benchmark/results/statistical_analysis/RandomSample_Defficiency.csv\")\n",
    "LHS.to_csv(\"../../Benchmark/results/statistical_analysis/LHS_Defficiency.csv\")"
   ]
  },
  {
   "cell_type": "code",
   "execution_count": 55,
   "metadata": {},
   "outputs": [
    {
     "data": {
      "image/png": "[encoded data removed]",
      "text/plain": [
       "<Figure size 432x288 with 1 Axes>"
      ]
     },
     "metadata": {
      "needs_background": "light"
     },
     "output_type": "display_data"
    }
   ],
   "source": [
    "RS=pd.read_csv(\"../../Benchmark/results/statistical_analysis/RandomSample_Defficiency.csv\",index_col=0)\n",
    "LHS=pd.read_csv(\"../../Benchmark/results/statistical_analysis/LHS_Defficiency.csv\",index_col=0)\n",
    "\n",
    "\n",
    "\n",
    "RS.columns=[\"Random Sampling N=50\",\"Random Sampling N=200\"]\n",
    "RS['Latin Hypercube N=50']=LHS['50']\n",
    "RS['Latin Hypercube N=200']=LHS['200']\n",
    "cols=[\"Random Sampling N=50\",'Latin Hypercube N=50',\"Random Sampling N=200\",'Latin Hypercube N=200']\n",
    "RS=RS[cols]\n",
    "\n",
    "\n",
    "pos=[1,2,3,4]\n",
    "fig,ax=plt.subplots()\n",
    "plt.violinplot(RS,showmeans=True)\n",
    "ax.set_xticks(pos)\n",
    "ax.set_xticklabels(cols,rotation=45)\n",
    "plt.ylabel(\"D-efficiency\")\n",
    "plt.savefig(\"../../../Results/Benchmark paper/Defficiency_LHS_RS_revision.svg\",bbox_inches=\"tight\")\n",
    "\n"
   ]
  },
  {
   "attachments": {},
   "cell_type": "markdown",
   "metadata": {},
   "source": [
    "## Compare performance between methods"
   ]
  },
  {
   "cell_type": "code",
   "execution_count": 111,
   "metadata": {},
   "outputs": [
    {
     "name": "stdout",
     "output_type": "stream",
     "text": [
      "0.30898015611657176 0\n",
      "0.4231392958224659 2\n",
      "0.4451050074839264 0\n"
     ]
    },
    {
     "name": "stderr",
     "output_type": "stream",
     "text": [
      "/home/plent/anaconda3/envs/skimpy-env/lib/python3.8/site-packages/skopt/optimizer/optimizer.py:449: UserWarning: The objective has been evaluated at this point before.\n",
      "  warnings.warn(\"The objective has been evaluated \"\n"
     ]
    },
    {
     "name": "stdout",
     "output_type": "stream",
     "text": [
      "0.5878958381701973 17\n",
      "0.5505832422540043 2\n",
      "0.5546794019454111 2\n"
     ]
    },
    {
     "name": "stderr",
     "output_type": "stream",
     "text": [
      "/home/plent/anaconda3/envs/skimpy-env/lib/python3.8/site-packages/skopt/optimizer/optimizer.py:449: UserWarning: The objective has been evaluated at this point before.\n",
      "  warnings.warn(\"The objective has been evaluated \"\n"
     ]
    },
    {
     "name": "stdout",
     "output_type": "stream",
     "text": [
      "0.6489481987694037 0\n",
      "0.5843695452491419 13\n",
      "0.6126477046167894 6\n",
      "0.43210875986700453 10\n",
      "0.44013560777618516 0\n",
      "0.35033982763508476 0\n",
      "0.6636413145454169 0\n",
      "0.41412123557881303 0\n",
      "0.4881593554477628 0\n",
      "0.45709177199078965 5\n",
      "0.597746220150905 3\n",
      "0.53508019412722 9\n",
      "0.48686052616954945 7\n",
      "0.6062018664951011 0\n",
      "0.4625533030716256 20\n",
      "0.4578573700600746 22\n",
      "0.4730951836944489 18\n",
      "0.4528896373938619 18\n",
      "0.47970119706444025 23\n",
      "0.4690783752653111 31\n",
      "0.4607036200451245 12\n",
      "0.4612261952512583 18\n",
      "0.4925750155771263 14\n",
      "0.45761732971503016 25\n",
      "0.48079306408035843 31\n",
      "0.464561071216117 14\n",
      "0.47886177371552935 23\n",
      "0.47237845348086066 15\n",
      "0.47329980781428627 4\n",
      "0.4607196637397664 15\n",
      "0.4664445906063846 12\n",
      "0.4661492484650884 20\n",
      "0.47567080907007875 8\n",
      "0.4530410102152716 9\n"
     ]
    }
   ],
   "source": [
    "from scipy.stats import linregress\n",
    "from sklearn.ensemble import GradientBoostingRegressor\n",
    "from skopt import BayesSearchCV\n",
    "\n",
    "column_names=['vmax_forward_enzyme_A',\"vmax_forward_enzyme_B\",\"vmax_forward_enzyme_C\",\n",
    "            \"vmax_forward_enzyme_D\",\"vmax_forward_enzyme_E\",\"vmax_forward_enzyme_F\",\"vmax_forward_enzyme_G\"]\n",
    "comb_space=pd.read_csv(\"../../Benchmark/data/combinatorial_space/combinatorial_space_pathway_A.csv\")\n",
    "\n",
    "\n",
    "pearson_dict={}\n",
    "top100_dict={}\n",
    "N_samples=[50,200]\n",
    "\n",
    "for j in N_samples:\n",
    "    top100_list=[]\n",
    "    pearson_list=[]\n",
    "    for i in range(20):\n",
    "        designs,d=Doptimal_Design(j)\n",
    "        train,tcart=find_set_designs(comb_space,tuple(np.array(designs)),column_names)\n",
    "        train_x=train.iloc[:,:-1]\n",
    "        train_y=train.iloc[:,-1]\n",
    "\n",
    "        test_x=comb_space.iloc[:,:-1]\n",
    "        test_y=comb_space.iloc[:,-1]\n",
    "\n",
    "        GBR=train_model(train_x,train_y)\n",
    "        prediction=GBR.predict(test_x)\n",
    "\n",
    "        #evaluate\n",
    "        slope, intercept, r_value, p_value, std_err = linregress(test_y,prediction)\n",
    "        score=r_value**2\n",
    "        top100=np.argsort(test_y)[::-1][0:100]\n",
    "        top100_pred=np.argsort(prediction)[::-1][0:100]\n",
    "        top100=len(np.intersect1d(top100,top100_pred))\n",
    "        top100_designs=top100_pred\n",
    "        pearson_list.append(score)\n",
    "        top100_list.append(top100)\n",
    "        print(score,top100)\n",
    "    pearson_dict[str(j)]=pearson_list\n",
    "    top100_dict[str(j)]=top100_list"
   ]
  },
  {
   "cell_type": "code",
   "execution_count": 112,
   "metadata": {},
   "outputs": [],
   "source": [
    "top100_dict=pd.DataFrame(top100_dict)\n",
    "pearson_dict=pd.DataFrame(pearson_dict)\n",
    "top100_dict.to_csv(\"../../Benchmark/results/statistical_analysis/top100_Doptimal.csv\")\n",
    "pearson_dict.to_csv(\"../../Benchmark/results/statistical_analysis/pearson_Doptimal.csv\")\n"
   ]
  },
  {
   "cell_type": "code",
   "execution_count": 60,
   "metadata": {},
   "outputs": [],
   "source": [
    "R_pearson=pd.read_csv(\"../../Benchmark/results/statistical_analysis/pearson_RS.csv\",index_col=0)\n",
    "R_LHS=pd.read_csv(\"../../Benchmark/results/statistical_analysis/pearson_LHS.csv\",index_col=0)\n",
    "R_Doptimal=pd.read_csv(\"../../Benchmark/results/statistical_analysis/pearson_Doptimal.csv\",index_col=0)\n",
    "\n",
    "R_Doptimal.columns=[\"Doptimal_N=50\",\"Doptimal_N=200\"]\n",
    "R_Doptimal['LHS_N=50']=R_LHS['50']\n",
    "R_Doptimal['LHS_N=200']=R_LHS['200']\n",
    "R_Doptimal['RS_N=200']=R_pearson['200']\n",
    "R_Doptimal['RS_N=50']=R_pearson['50']\n",
    "cols=[\"Doptimal_N=50\",\"LHS_N=50\",\"RS_N=50\",\"Doptimal_N=200\",\"LHS_N=200\",\"RS_N=200\"]\n",
    "R_Doptimal=R_Doptimal[cols]"
   ]
  },
  {
   "attachments": {},
   "cell_type": "markdown",
   "metadata": {},
   "source": [
    "## DO the analysis"
   ]
  },
  {
   "cell_type": "code",
   "execution_count": 63,
   "metadata": {},
   "outputs": [
    {
     "data": {
      "image/png": "[encoded data removed]",
      "text/plain": [
       "<Figure size 432x288 with 1 Axes>"
      ]
     },
     "metadata": {
      "needs_background": "light"
     },
     "output_type": "display_data"
    },
    {
     "data": {
      "image/png": "[encoded data removed]",
      "text/plain": [
       "<Figure size 432x288 with 1 Axes>"
      ]
     },
     "metadata": {
      "needs_background": "light"
     },
     "output_type": "display_data"
    }
   ],
   "source": [
    "pos=[1,2,3]\n",
    "fig,ax=plt.subplots()\n",
    "plt.violinplot(R_Doptimal.iloc[:,:3],showmeans=True)\n",
    "# ax.set_xticks(pos)\n",
    "plt.title(\"Pearson Correlation (N=50)\")\n",
    "cols_50=[\"D optimal\", \"Latin Hypercube\",\"Random Sampling\"]\n",
    "ax.set_xticklabels([],rotation=45)\n",
    "plt.ylabel(\"$R^2$\")\n",
    "plt.ylim((0,1))\n",
    "plt.savefig(\"../../../Results/Benchmark paper/R2_D_LHS_RS_50.svg\",bbox_inches=\"tight\")\n",
    "plt.show()\n",
    "\n",
    "pos=[1,2,3]\n",
    "fig,ax=plt.subplots()\n",
    "plt.violinplot(R_Doptimal.iloc[:,3:],showmeans=True)\n",
    "# ax.set_xticks(pos)\n",
    "plt.title(\"Pearson Correlation (N=200)\")\n",
    "cols_50=[\"D optimal\", \"Latin Hypercube\",\"Random Sampling\"]\n",
    "ax.set_xticklabels([],rotation=45)\n",
    "plt.ylim((0,1))\n",
    "plt.ylabel(\"$R^2$\")\n",
    "plt.savefig(\"../../../Results/Benchmark paper/R2_D_LHS_RS_200.svg\",bbox_inches=\"tight\")\n",
    "plt.show()\n",
    "\n"
   ]
  },
  {
   "cell_type": "code",
   "execution_count": 58,
   "metadata": {},
   "outputs": [],
   "source": [
    "R_pearson=pd.read_csv(\"../../Benchmark/results/statistical_analysis/top100_RS.csv\",index_col=0)\n",
    "R_LHS=pd.read_csv(\"../../Benchmark/results/statistical_analysis/top100_LHS.csv\",index_col=0)\n",
    "R_Doptimal=pd.read_csv(\"../../Benchmark/results/statistical_analysis/top100_Doptimal.csv\",index_col=0)\n",
    "\n",
    "R_Doptimal.columns=[\"Doptimal_N=50\",\"Doptimal_N=200\"]\n",
    "R_Doptimal['LHS_N=50']=R_LHS['50']\n",
    "R_Doptimal['LHS_N=200']=R_LHS['200']\n",
    "R_Doptimal['RS_N=200']=R_pearson['200']\n",
    "R_Doptimal['RS_N=50']=R_pearson['50']\n",
    "cols=[\"Doptimal_N=50\",\"LHS_N=50\",\"RS_N=50\",\"Doptimal_N=200\",\"LHS_N=200\",\"RS_N=200\"]\n",
    "R_Doptimal=R_Doptimal[cols]\n"
   ]
  },
  {
   "cell_type": "code",
   "execution_count": 59,
   "metadata": {},
   "outputs": [
    {
     "data": {
      "image/png": "[encoded data removed]",
      "text/plain": [
       "<Figure size 432x288 with 1 Axes>"
      ]
     },
     "metadata": {
      "needs_background": "light"
     },
     "output_type": "display_data"
    },
    {
     "data": {
      "image/png": "[encoded data removed]",
      "text/plain": [
       "<Figure size 432x288 with 1 Axes>"
      ]
     },
     "metadata": {
      "needs_background": "light"
     },
     "output_type": "display_data"
    }
   ],
   "source": [
    "pos=[1,2,3]\n",
    "fig,ax=plt.subplots()\n",
    "plt.violinplot(R_Doptimal.iloc[:,:3],showmeans=True)\n",
    "ax.set_xticks(pos)\n",
    "plt.title(\"Top 100 prediction (N=50)\")\n",
    "cols_50=[\"D optimal\", \"Latin Hypercube\",\"Random Sampling\"]\n",
    "ax.set_xticklabels(cols_50,rotation=45)\n",
    "plt.ylabel(\"Average top 100 prediction\")\n",
    "plt.savefig(\"../../../Results/Benchmark paper/Top100_D_LHS_RS_50.svg\",bbox_inches=\"tight\")\n",
    "# plt.ylim((0,1))\n",
    "plt.show()\n",
    "\n",
    "pos=[1,2,3]\n",
    "fig,ax=plt.subplots()\n",
    "plt.violinplot(R_Doptimal.iloc[:,3:],showmeans=True)\n",
    "ax.set_xticks(pos)\n",
    "plt.title(\"Average top 100 prediction (N=200)\")\n",
    "cols_50=[\"D optimal\", \"Latin Hypercube\",\"Random Sampling\"]\n",
    "ax.set_xticklabels(cols_50,rotation=45)\n",
    "plt.savefig(\"../../../Results/Benchmark paper/Top100_D_LHS_RS_200.svg\",bbox_inches=\"tight\")\n",
    "# plt.ylim((0,1))\n",
    "plt.ylabel(\"Top 100\")\n",
    "plt.show()"
   ]
  },
  {
   "cell_type": "code",
   "execution_count": null,
   "metadata": {},
   "outputs": [],
   "source": []
  }
 ],
 "metadata": {
  "kernelspec": {
   "display_name": "base",
   "language": "python",
   "name": "python3"
  },
  "language_info": {
   "codemirror_mode": {
    "name": "ipython",
    "version": 3
   },
   "file_extension": ".py",
   "mimetype": "text/x-python",
   "name": "python",
   "nbconvert_exporter": "python",
   "pygments_lexer": "ipython3",
   "version": "3.8.16"
  },
  "orig_nbformat": 4
 },
 "nbformat": 4,
 "nbformat_minor": 2
}
