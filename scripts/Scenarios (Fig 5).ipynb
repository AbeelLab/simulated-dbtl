{
 "cells": [
  {
   "cell_type": "code",
   "execution_count": 1,
   "id": "8d15e8d2",
   "metadata": {},
   "outputs": [],
   "source": [
    "import matplotlib.pyplot as plt\n",
    "import pandas as pd\n",
    "import numpy as np"
   ]
  },
  {
   "cell_type": "code",
   "execution_count": 2,
   "id": "4fa56df6",
   "metadata": {},
   "outputs": [],
   "source": [
    "my_distribution={\n",
    "    \"Equal sampling\":{\"0.25\":1/6,\"0.5\":1/6,\"1.0\":1/6,\"1.5\":1/6,\"2.0\":1/6,\"4\":1/6},\n",
    "    \"Strong effect bias\":{\"0.25\":0.25,\"0.5\":0.15,\"1.0\":0.1,\"1.5\":0.1,\"2.0\":0.15,\"4\":0.25},\n",
    "    \"Mild effect bias\":{\"0.25\":0.1,\"0.5\":0.15,\"1.0\":0.25,\"1.5\":0.25,\"2.0\":0.15,\"4\":0.1}}"
   ]
  },
  {
   "cell_type": "code",
   "execution_count": 3,
   "id": "f12e5554",
   "metadata": {},
   "outputs": [
    {
     "data": {
      "image/png": "[encoded data removed]",
      "text/plain": [
       "<Figure size 432x288 with 1 Axes>"
      ]
     },
     "metadata": {
      "needs_background": "light"
     },
     "output_type": "display_data"
    }
   ],
   "source": [
    "\n",
    "\n",
    "colors= ['#BB0103','#DB7A7B','#ADB6B6FF','#0099B4FF','#00468B99','#00468BFF']\n",
    "a_dict=pd.DataFrame(my_distribution)\n",
    "a_dict=pd.DataFrame(a_dict).sort_index()\n",
    "ax=a_dict.T.plot(kind=\"bar\",width=0.9,stacked=\"True\",color=colors[::-1])\n",
    "ax.legend(bbox_to_anchor=(1.0,1.0),title=\"Promoter Strength\")\n",
    "ax.set_ylabel(\"Sampling probability\")\n",
    "plt.xticks(rotation=0)\n",
    "plt.title(\"Promoter distribution\")\n",
    "plt.savefig(\"../../../Results/Benchmark paper/Figure 4/promoter_distribution.svg\",bbox_inches=\"tight\")"
   ]
  },
  {
   "cell_type": "code",
   "execution_count": 4,
   "id": "86f91500",
   "metadata": {},
   "outputs": [
    {
     "name": "stdout",
     "output_type": "stream",
     "text": [
      "N=200\n",
      "Ttest_indResult(statistic=-0.7555851952820279, pvalue=0.4545562632813738)\n",
      "Ttest_indResult(statistic=-1.5212986515200717, pvalue=0.13646341850901525)\n",
      "Ttest_indResult(statistic=-1.755752100223255, pvalue=0.08718927661188101)\n",
      "Ttest_indResult(statistic=1.482594504746214, pvalue=0.14642872668325113)\n",
      "N=50\n",
      "Ttest_indResult(statistic=-0.30165772492166787, pvalue=0.76455773463355)\n",
      "Ttest_indResult(statistic=0.030658971517048952, pvalue=0.9757019764035602)\n",
      "Ttest_indResult(statistic=-1.534202320435953, pvalue=0.13326462815219597)\n",
      "Ttest_indResult(statistic=1.2998723657461408, pvalue=0.20147473652804312)\n"
     ]
    }
   ],
   "source": [
    "dir1=\"/home/plent/Documenten/Gitlab/Benchmark/results/no_noise_scenario_analysis/Figure 4 Scenarios\"\n",
    "\n",
    "sc1_results50=pd.read_csv(dir1+\"/r2/Bayes_sc_equal_no_noise_r2_50.csv\").iloc[:,1:]\n",
    "sc2_results50=pd.read_csv(dir1+\"/r2/Bayes_sc_radical_no_noise_r2_50.csv\").iloc[:,1:]\n",
    "sc3_results50=pd.read_csv(dir1+\"/r2/Bayes_sc_non-radical_no_noise_r2_50.csv\").iloc[:,1:]\n",
    "\n",
    "sc1_results200=pd.read_csv(dir1+\"/r2/Bayes_sc_equal_no_noise_r2_200.csv\").iloc[:,1:]\n",
    "sc2_results200=pd.read_csv(dir1+\"/r2/Bayes_sc_radical_no_noise_r2_200.csv\").iloc[:,1:]\n",
    "sc3_results200=pd.read_csv(dir1+\"/r2/Bayes_sc_non-radical_no_noise_r2_200.csv\").iloc[:,1:]\n",
    "\n",
    "\n",
    "from scipy.stats import ttest_ind\n",
    "print(\"N=200\")\n",
    "print(ttest_ind(sc1_results200['GBR'],sc2_results200['GBR']))\n",
    "print(ttest_ind(sc1_results200['RF'],sc2_results200['RF']))\n",
    "print(ttest_ind(sc1_results200['SGD'],sc2_results200['SGD']))\n",
    "print(ttest_ind(sc1_results200['NN'],sc2_results200['NN']))\n",
    "\n",
    "\n",
    "print(\"N=50\")\n",
    "print(ttest_ind(sc1_results50['GBR'],sc2_results50['GBR']))\n",
    "print(ttest_ind(sc1_results50['RF'],sc2_results50['RF']))\n",
    "print(ttest_ind(sc1_results50['SGD'],sc2_results50['SGD']))\n",
    "print(ttest_ind(sc1_results50['NN'],sc2_results50['NN']))\n",
    "\n",
    "#sc1_results1000=pd.read_csv(dir1+\"/r2/Bayes_sc_equal_no_noise_r2_1000.csv\").iloc[:,1:]\n",
    "#sc2_results1000=pd.read_csv(dir1+\"/r2/Bayes_sc_radical_no_noise_r2_1000.csv\").iloc[:,1:]\n",
    "#sc3_results1000=pd.read_csv(dir1+\"/r2/Bayes_sc_non-radical_no_noise_r2_1000.csv\").iloc[:,1:]"
   ]
  },
  {
   "cell_type": "code",
   "execution_count": 5,
   "id": "ccb51ee2",
   "metadata": {},
   "outputs": [
    {
     "ename": "NameError",
     "evalue": "name 'sc1_results1000' is not defined",
     "output_type": "error",
     "traceback": [
      "\u001b[0;31m---------------------------------------------------------------------------\u001b[0m",
      "\u001b[0;31mNameError\u001b[0m                                 Traceback (most recent call last)",
      "\u001b[0;32m/tmp/ipykernel_9316/3739049582.py\u001b[0m in \u001b[0;36m<cell line: 6>\u001b[0;34m()\u001b[0m\n\u001b[1;32m      4\u001b[0m \u001b[0;34m\u001b[0m\u001b[0m\n\u001b[1;32m      5\u001b[0m \u001b[0;34m\u001b[0m\u001b[0m\n\u001b[0;32m----> 6\u001b[0;31m \u001b[0mprint\u001b[0m\u001b[0;34m(\u001b[0m\u001b[0mnp\u001b[0m\u001b[0;34m.\u001b[0m\u001b[0mmean\u001b[0m\u001b[0;34m(\u001b[0m\u001b[0msc1_results1000\u001b[0m\u001b[0;34m)\u001b[0m\u001b[0;34m)\u001b[0m\u001b[0;34m\u001b[0m\u001b[0;34m\u001b[0m\u001b[0m\n\u001b[0m\u001b[1;32m      7\u001b[0m \u001b[0mprint\u001b[0m\u001b[0;34m(\u001b[0m\u001b[0mnp\u001b[0m\u001b[0;34m.\u001b[0m\u001b[0mmean\u001b[0m\u001b[0;34m(\u001b[0m\u001b[0msc2_results1000\u001b[0m\u001b[0;34m)\u001b[0m\u001b[0;34m)\u001b[0m\u001b[0;34m\u001b[0m\u001b[0;34m\u001b[0m\u001b[0m\n\u001b[1;32m      8\u001b[0m \u001b[0mprint\u001b[0m\u001b[0;34m(\u001b[0m\u001b[0mnp\u001b[0m\u001b[0;34m.\u001b[0m\u001b[0mmean\u001b[0m\u001b[0;34m(\u001b[0m\u001b[0msc3_results1000\u001b[0m\u001b[0;34m)\u001b[0m\u001b[0;34m)\u001b[0m\u001b[0;34m\u001b[0m\u001b[0;34m\u001b[0m\u001b[0m\n",
      "\u001b[0;31mNameError\u001b[0m: name 'sc1_results1000' is not defined"
     ]
    }
   ],
   "source": [
    "#print(np.mean(sc1_results100))\n",
    "#print(np.mean(sc2_results100))\n",
    "#print(np.mean(sc3_results100))\n",
    "\n",
    "\n",
    "print(np.mean(sc1_results1000))\n",
    "print(np.mean(sc2_results1000))\n",
    "print(np.mean(sc3_results1000))"
   ]
  },
  {
   "cell_type": "markdown",
   "id": "d86bd945",
   "metadata": {},
   "source": [
    "# R2"
   ]
  },
  {
   "cell_type": "code",
   "execution_count": 6,
   "id": "d67223e1",
   "metadata": {},
   "outputs": [
    {
     "name": "stderr",
     "output_type": "stream",
     "text": [
      "/home/plent/anaconda3/envs/skimpy-env/lib/python3.8/site-packages/numpy/core/fromnumeric.py:3472: FutureWarning: In a future version, DataFrame.mean(axis=None) will return a scalar mean over the entire DataFrame. To retain the old behavior, use 'frame.mean(axis=0)' or just 'frame.mean()'\n",
      "  return mean(axis=axis, dtype=dtype, out=out, **kwargs)\n"
     ]
    },
    {
     "data": {
      "image/png": "[encoded data removed]",
      "text/plain": [
       "<Figure size 432x288 with 1 Axes>"
      ]
     },
     "metadata": {
      "needs_background": "light"
     },
     "output_type": "display_data"
    }
   ],
   "source": [
    "x=list(sc1_results200.columns)\n",
    "X_axis = np.arange(len(x))\n",
    "y1=np.mean(sc1_results200)\n",
    "y2=np.mean(sc2_results200)\n",
    "y3=np.mean(sc3_results200)\n",
    "\n",
    "\n",
    "fig, ax1 = plt.subplots(figsize=(6, 4))\n",
    "ax1.bar(X_axis-0.25,y2,width=0.25,align='center',label=\"Strong effect bias\", yerr=np.std(sc2_results200),color=\"#ED0000FF\")\n",
    "ax1.bar(X_axis,y1,width=0.25,align='center',label=\"Equal sampling\", yerr=np.std(sc1_results200),color=\"#00468BFF\")\n",
    "ax1.bar(X_axis+0.25,y3,width=0.25,align='center',label=\"Mild effect bias\", yerr=np.std(sc3_results200),color=\"#ADB6B6FF\")\n",
    "\n",
    "#ax1.bar(X_axis,0.4,y3)\n",
    "plt.xticks(X_axis, x)\n",
    "plt.yticks([])\n",
    "plt.legend(title=\"Scenarios\",bbox_to_anchor=(1.0, 1))\n",
    "#ax1.set_ylabel(\"R2-value\")\n",
    "ax1.set_xlabel(\"Algorithms\")\n",
    "ax1.set_title(\"Sampling scenarios (N=200)\")\n",
    "ax1.set_ylim(top=1)\n",
    "colors = ['#00468BFF', '#ED0000FF', '#42B540FF',\"#0099B4FF\",\n",
    "         \"#925E9FFF\",\"#FDAF91FF\",\"#AD002AFF\",\"#ADB6B6FF\"]\n",
    "plt.savefig(\"../../../Results/Benchmark paper/Figure 4/N200_scenarios_r2.svg\",bbox_inches=\"tight\")\n"
   ]
  },
  {
   "cell_type": "code",
   "execution_count": 8,
   "id": "2f7851ea",
   "metadata": {},
   "outputs": [
    {
     "data": {
      "image/png": "[encoded data removed]",
      "text/plain": [
       "<Figure size 432x288 with 1 Axes>"
      ]
     },
     "metadata": {
      "needs_background": "light"
     },
     "output_type": "display_data"
    }
   ],
   "source": [
    "x=list(sc1_results50.columns)\n",
    "X_axis = np.arange(len(x))\n",
    "y1=np.mean(sc1_results50)\n",
    "y2=np.mean(sc2_results50)\n",
    "y3=np.mean(sc3_results50)\n",
    "\n",
    "\n",
    "fig, ax1 = plt.subplots(figsize=(6, 4))\n",
    "ax1.bar(X_axis-0.25,y2,width=0.25,align='center',label=\"Strong effect bias\", yerr=np.std(sc2_results50),color=\"#ED0000FF\")\n",
    "ax1.bar(X_axis,y1,width=0.25,align='center',label=\"Equal sampling\", yerr=np.std(sc1_results50),color=\"#00468BFF\")\n",
    "ax1.bar(X_axis+0.25,y3,width=0.25,align='center',label=\"Mild effect bias\", yerr=np.std(sc3_results50),color=\"#ADB6B6FF\")\n",
    "\n",
    "#ax1.bar(X_axis,0.4,y3)\n",
    "plt.xticks(X_axis, x)\n",
    "\n",
    "#plt.legend(title=\"Scenarios\",bbox_to_anchor=(1.4, 1))\n",
    "ax1.set_ylabel(\"R2-value\")\n",
    "ax1.set_xlabel(\"Algorithms\")\n",
    "ax1.set_title(\"Sampling scenarios (N=50)\")\n",
    "ax1.set_ylim(top=1)\n",
    "colors = ['#00468BFF', '#ED0000FF', '#42B540FF',\"#0099B4FF\",\n",
    "         \"#925E9FFF\",\"#FDAF91FF\",\"#AD002AFF\",\"#ADB6B6FF\"]\n",
    "plt.savefig(\"../../../Results/Benchmark paper/Figure 4/N50_scenarios_r2.svg\",bbox_inches=\"tight\")\n",
    "\n"
   ]
  },
  {
   "cell_type": "markdown",
   "id": "dc51894f",
   "metadata": {},
   "source": [
    "# Intersection"
   ]
  },
  {
   "cell_type": "code",
   "execution_count": 10,
   "id": "850b7bdf",
   "metadata": {},
   "outputs": [
    {
     "name": "stdout",
     "output_type": "stream",
     "text": [
      "N=200\n",
      "Ttest_indResult(statistic=-3.715528509062459, pvalue=0.0006502203105091016)\n",
      "Ttest_indResult(statistic=-4.512017116509916, pvalue=6.017430316714155e-05)\n",
      "Ttest_indResult(statistic=-1.5391899025953064, pvalue=0.13204450031651124)\n",
      "Ttest_indResult(statistic=-0.9254014507933269, pvalue=0.3605970361879489)\n",
      "N=50\n",
      "Ttest_indResult(statistic=-1.5966587469103812, pvalue=0.11862566753075647)\n",
      "Ttest_indResult(statistic=-4.56407239585253, pvalue=5.128943549646774e-05)\n",
      "Ttest_indResult(statistic=-3.84826749170349, pvalue=0.00044174367152733187)\n",
      "Ttest_indResult(statistic=-1.7402261802800407, pvalue=0.08991320028207839)\n"
     ]
    }
   ],
   "source": [
    "dir1=\"/home/plent/Documenten/Gitlab/Benchmark/results/no_noise_scenario_analysis/Figure 4 Scenarios\"\n",
    "\n",
    "sc1_results50=pd.read_csv(dir1+\"/intersect/Bayes_sc_equal_no_noise_intersect_50.csv\").iloc[:,1:]\n",
    "sc2_results50=pd.read_csv(dir1+\"/intersect/Bayes_sc_radical_no_noise_intersect_50.csv\").iloc[:,1:]\n",
    "sc3_results50=pd.read_csv(dir1+\"/intersect/Bayes_sc_non-radical_no_noise_intersect_50.csv\").iloc[:,1:]\n",
    "\n",
    "sc1_results200=pd.read_csv(dir1+\"/intersect/Bayes_sc_equal_no_noise_intersect_200.csv\").iloc[:,1:]\n",
    "sc2_results200=pd.read_csv(dir1+\"/intersect/Bayes_sc_radical_no_noise_intersect_200.csv\").iloc[:,1:]\n",
    "sc3_results200=pd.read_csv(dir1+\"/intersect/Bayes_sc_non-radical_no_noise_intersect_200.csv\").iloc[:,1:]\n",
    "\n",
    "print(\"N=200\")\n",
    "print(ttest_ind(sc1_results200['GBR'],sc2_results200['GBR']))\n",
    "print(ttest_ind(sc1_results200['RF'],sc2_results200['RF']))\n",
    "print(ttest_ind(sc1_results200['SGD'],sc2_results200['SGD']))\n",
    "print(ttest_ind(sc1_results200['NN'],sc2_results200['NN']))\n",
    "\n",
    "\n",
    "print(\"N=50\")\n",
    "print(ttest_ind(sc1_results50['GBR'],sc2_results50['GBR']))\n",
    "print(ttest_ind(sc1_results50['RF'],sc2_results50['RF']))\n",
    "print(ttest_ind(sc1_results50['SGD'],sc2_results50['SGD']))\n",
    "print(ttest_ind(sc1_results50['NN'],sc2_results50['NN']))\n"
   ]
  },
  {
   "cell_type": "code",
   "execution_count": 11,
   "id": "48c1d028",
   "metadata": {},
   "outputs": [
    {
     "name": "stderr",
     "output_type": "stream",
     "text": [
      "/home/plent/anaconda3/envs/skimpy-env/lib/python3.8/site-packages/numpy/core/fromnumeric.py:3472: FutureWarning: In a future version, DataFrame.mean(axis=None) will return a scalar mean over the entire DataFrame. To retain the old behavior, use 'frame.mean(axis=0)' or just 'frame.mean()'\n",
      "  return mean(axis=axis, dtype=dtype, out=out, **kwargs)\n"
     ]
    },
    {
     "data": {
      "image/png": "[encoded data removed]",
      "text/plain": [
       "<Figure size 432x288 with 1 Axes>"
      ]
     },
     "metadata": {
      "needs_background": "light"
     },
     "output_type": "display_data"
    }
   ],
   "source": [
    "x=list(sc1_results50.columns)\n",
    "X_axis = np.arange(len(x))\n",
    "y1=np.mean(sc1_results50)\n",
    "y2=np.mean(sc2_results50)\n",
    "y3=np.mean(sc3_results50)\n",
    "\n",
    "\n",
    "fig, ax1 = plt.subplots(figsize=(6, 4))\n",
    "ax1.bar(X_axis-0.25,y2,width=0.25,align='center',label=\"Strong effect bias\", yerr=np.std(sc2_results50),color=\"#ED0000FF\")\n",
    "ax1.bar(X_axis,y1,width=0.25,align='center',label=\"Equal sampling\", yerr=np.std(sc1_results50),color=\"#00468BFF\")\n",
    "ax1.bar(X_axis+0.25,y3,width=0.25,align='center',label=\"Mild effect bias\", yerr=np.std(sc3_results50),color=\"#ADB6B6FF\")\n",
    "\n",
    "#ax1.bar(X_axis,0.4,y3)\n",
    "plt.xticks(X_axis, x)\n",
    "#plt.legend(title=\"Scenarios\",bbox_to_anchor=(1.4, 1))\n",
    "ax1.set_ylabel(\"Average top 100 prediction\")\n",
    "ax1.set_xlabel(\"Algorithms\")\n",
    "ax1.set_title(\"Sampling scenarios (N=50)\")\n",
    "colors = ['#00468BFF', '#ED0000FF', '#42B540FF',\"#0099B4FF\",\n",
    "         \"#925E9FFF\",\"#FDAF91FF\",\"#AD002AFF\",\"#ADB6B6FF\"]\n",
    "\n",
    "\n",
    "plt.savefig(\"../../../Results/Benchmark paper/Figure 4/N50_scenarios_intersect.svg\",bbox_inches=\"tight\")"
   ]
  },
  {
   "cell_type": "code",
   "execution_count": 12,
   "id": "06d28b54",
   "metadata": {},
   "outputs": [
    {
     "data": {
      "image/png": "[encoded data removed]",
      "text/plain": [
       "<Figure size 432x288 with 1 Axes>"
      ]
     },
     "metadata": {
      "needs_background": "light"
     },
     "output_type": "display_data"
    }
   ],
   "source": [
    "x=list(sc1_results50.columns)\n",
    "X_axis = np.arange(len(x))\n",
    "y1=np.mean(sc1_results200)\n",
    "y2=np.mean(sc2_results200)\n",
    "y3=np.mean(sc3_results200)\n",
    "\n",
    "\n",
    "fig, ax1 = plt.subplots(figsize=(6, 4))\n",
    "ax1.bar(X_axis-0.25,y2,width=0.25,align='center',label=\"Strong effect bias\", yerr=np.std(sc2_results200),color=\"#ED0000FF\")\n",
    "ax1.bar(X_axis,y1,width=0.25,align='center',label=\"Equal sampling\", yerr=np.std(sc1_results200),color=\"#00468BFF\")\n",
    "ax1.bar(X_axis+0.25,y3,width=0.25,align='center',label=\"Mild effect bias\", yerr=np.std(sc3_results200),color=\"#ADB6B6FF\")\n",
    "\n",
    "#ax1.bar(X_axis,0.4,y3)\n",
    "plt.xticks(X_axis, x)\n",
    "\n",
    "plt.legend(title=\"Scenarios\",bbox_to_anchor=(1.4, 1))\n",
    "#ax1.set_ylabel(\"Average top 100 prediction\")\n",
    "ax1.set_xlabel(\"Algorithms\")\n",
    "ax1.set_title(\"Sampling scenarios (N=200)\")\n",
    "colors = ['#00468BFF', '#ED0000FF', '#42B540FF',\"#0099B4FF\",\n",
    "         \"#925E9FFF\",\"#FDAF91FF\",\"#AD002AFF\",\"#ADB6B6FF\"]\n",
    "plt.savefig(\"../../../Results/Benchmark paper/Figure 4/N200_scenarios_intersect.svg\",bbox_inches=\"tight\")"
   ]
  },
  {
   "cell_type": "code",
   "execution_count": 94,
   "id": "af546514",
   "metadata": {},
   "outputs": [
    {
     "name": "stdout",
     "output_type": "stream",
     "text": [
      "Ttest_indResult(statistic=-3.715528509062459, pvalue=0.0006502203105091016)\n",
      "Ttest_indResult(statistic=-4.512017116509916, pvalue=6.017430316714155e-05)\n",
      "Ttest_indResult(statistic=-1.5391899025953064, pvalue=0.13204450031651124)\n",
      "Ttest_indResult(statistic=-0.9254014507933269, pvalue=0.3605970361879489)\n"
     ]
    }
   ],
   "source": []
  },
  {
   "cell_type": "code",
   "execution_count": null,
   "id": "242ca0c0",
   "metadata": {},
   "outputs": [],
   "source": []
  }
 ],
 "metadata": {
  "kernelspec": {
   "display_name": "Python 3 (ipykernel)",
   "language": "python",
   "name": "python3"
  },
  "language_info": {
   "codemirror_mode": {
    "name": "ipython",
    "version": 3
   },
   "file_extension": ".py",
   "mimetype": "text/x-python",
   "name": "python",
   "nbconvert_exporter": "python",
   "pygments_lexer": "ipython3",
   "version": "3.8.13"
  }
 },
 "nbformat": 4,
 "nbformat_minor": 5
}
