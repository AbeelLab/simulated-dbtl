{
 "cells": [
  {
   "attachments": {},
   "cell_type": "markdown",
   "id": "978db2a1",
   "metadata": {},
   "source": [
    "## Batch reactors\n",
    "\n",
    "Goal of this script is to understand how batch reactors are applied in Skimpy, how they are applied in normal BB kinetic models, and perhaps how to rewrite our model for a use-case in BB kinetics."
   ]
  },
  {
   "cell_type": "code",
   "execution_count": 1,
   "id": "bcee9292",
   "metadata": {},
   "outputs": [],
   "source": [
    "from pytfa.io.json import load_json_model\n",
    "\n",
    "import numpy as np\n",
    "import pandas as pd\n",
    "from skimpy.core.modifiers import *\n",
    "from skimpy.io.yaml import load_yaml_model\n",
    "from skimpy.core.reactor import Reactor\n",
    "from skimpy.analysis.oracle.load_pytfa_solution import load_concentrations, load_fluxes\n",
    "from skimpy.viz.plotting import timetrace_plot\n",
    "\n",
    "from pytfa.io.json import load_json_model\n",
    "from skimpy.io.yaml import load_yaml_model\n",
    "from skimpy.analysis.oracle.load_pytfa_solution import load_concentrations\n",
    "from skimpy.core.parameters import load_parameter_population\n",
    "from skimpy.simulations.reactor import make_batch_reactor\n",
    "from skimpy.core.solution import ODESolutionPopulation\n",
    "from skimpy.utils.namespace import *"
   ]
  },
  {
   "cell_type": "code",
   "execution_count": 8,
   "id": "02f342a3",
   "metadata": {},
   "outputs": [
    {
     "name": "stderr",
     "output_type": "stream",
     "text": [
      "2023-05-22 11:16:58,940 - Unnamed - WARNING - Non integer stoichiometries found ['LMPD_biomass_c_17_462'] change to integer for linear dependencies\n",
      "2023-05-22 11:17:37,384 - thermomodel_redGEMv1_MergedLMPDsAndBiomass - continuous - INFO - # Model initialized with units kcal/mol and temperature 298.15 K\n",
      "2023-05-22 11:17:37,994 - Unnamed - WARNING - Non integer stoichiometries found ['LMPD_biomass_c_17_462'] change to integer for linear dependencies\n"
     ]
    },
    {
     "name": "stdout",
     "output_type": "stream",
     "text": [
      "strain_1   -4.60517\n",
      "Name: LC_biomass_e, dtype: float64\n",
      "10000.000000000015\n"
     ]
    }
   ],
   "source": [
    "reactor = make_batch_reactor('../models/single_species.yaml')\n",
    "reactor.compile_ode(add_dilution=False)\n",
    "\n",
    "path_to_kmodel = '../models/shiki_pathway_testmodel.yml'\n",
    "path_to_tmodel = '../models/shiki_pathway_testmodel_thermodynamic.json'\n",
    "path_to_sample='../data/sample06092022.csv'\n",
    "# load models\n",
    "tmodel = load_json_model(path_to_tmodel)\n",
    "kmodel = load_yaml_model(path_to_kmodel)\n",
    "\n",
    "\n",
    "reference_solutions = pd.read_csv(path_to_sample, index_col=0)\n",
    "ref_concentrations = load_concentrations(reference_solutions.loc['strain_1'], tmodel, kmodel,\n",
    "                                                      concentration_scaling=reactor.concentration_scaling)\n",
    "\n",
    "\n",
    "print(reference_solutions['LC_biomass_e'])\n",
    "print(ref_concentrations['biomass_e'])\n",
    "reactor.initial_conditions['biomass_strain_1'] = 0.1e12 # Number of cells\n",
    "reactor.initialize(ref_concentrations, 'strain_1')\n",
    "sol = reactor.solve_ode(np.linspace(0, 10.0, 1000),\n",
    "                            solver_type='cvode',\n",
    "                            rtol=1e-9,\n",
    "                            atol=1e-9,\n",
    "                            max_steps=1e9,\n",
    "                            )\n",
    "\n"
   ]
  },
  {
   "cell_type": "code",
   "execution_count": 9,
   "id": "653c4358",
   "metadata": {},
   "outputs": [
    {
     "data": {
      "image/png": "[encoded data removed]",
      "text/plain": [
       "<Figure size 432x288 with 2 Axes>"
      ]
     },
     "metadata": {
      "needs_background": "light"
     },
     "output_type": "display_data"
    }
   ],
   "source": [
    "\n",
    "\n",
    "import matplotlib.pyplot as plt\n",
    "\n",
    "fig, ax1 = plt.subplots()\n",
    "\n",
    "\n",
    "#fig.savefig(\"concentrations.svg\")\n",
    "ax2 = ax1.twinx()\n",
    "ax1.plot(sol.time,sol.concentrations['glc_D_e']/reactor.concentration_scaling,color=\"#00468BFF\",linewidth=4,label=\"Glucose\")\n",
    "ax1.plot(sol.time,sol.concentrations['strain_1_G_c']/reactor.concentration_scaling,color=\"#ED0000FF\",linewidth=4,label=\"Product G\")\n",
    "ax1.set_xlabel(\"Time (in hours)\")\n",
    "\n",
    "MASS_PER_CELL = 1e-12 #[g/cell]\n",
    "species = ['biomass_strain_1', ]\n",
    "ax2.plot(sol.time, sol.concentrations[species].values*MASS_PER_CELL,color=\"#ADB6B6FF\",linewidth=4,label=\"Biomass\")\n",
    "ax1.set_ylabel(\"Concentration (in M)\")\n",
    "ax2.set_ylabel('Biomass (in g)')\n",
    "plt.title(\"Wild-type batch bioprocess\")\n",
    "ax1.legend(loc=(1.1, 0.7))\n",
    "ax2.legend(loc=(1.1, 0.9))\n",
    "plt.show()\n",
    "#fig.savefig(\"../../../Results/Benchmark paper/Figure 1/biomass.svg\", bbox_inches=\"tight\")\n"
   ]
  },
  {
   "cell_type": "code",
   "execution_count": 128,
   "id": "7dd19a0f",
   "metadata": {},
   "outputs": [],
   "source": [
    "from skimpy.analysis.ode.utils import make_flux_fun\n",
    "fluxes_strain_1 = make_flux_fun(reactor.models.strain_1, QSSA)\n",
    "\n",
    "fluxes = []\n",
    "model_params = reactor.models.strain_1.parameters\n",
    "parameters = {str(p.symbol):p.value for p in model_params.values() if not p.value is None}\n",
    "for i, concentrations in sol.concentrations.iterrows():\n",
    "    this_fluxes = fluxes_strain_1(concentrations, parameters=parameters)\n",
    "    fluxes.append(this_fluxes)\n",
    "# Make it a DataFrame\n",
    "fluxes = pd.DataFrame(fluxes)/reactor.flux_scaling\n",
    "fluxes.index = sol.time"
   ]
  },
  {
   "cell_type": "code",
   "execution_count": 129,
   "id": "6271694d",
   "metadata": {},
   "outputs": [
    {
     "data": {
      "text/plain": [
       "2.012012    10.435680\n",
       "2.027027    10.435640\n",
       "2.042042    10.435600\n",
       "2.057057    10.435561\n",
       "2.072072    10.435523\n",
       "              ...    \n",
       "2.927928    10.434483\n",
       "2.942943    10.434484\n",
       "2.957958    10.434486\n",
       "2.972973    10.434488\n",
       "2.987988    10.434492\n",
       "Name: GLCptspp, Length: 66, dtype: float64"
      ]
     },
     "execution_count": 129,
     "metadata": {},
     "output_type": "execute_result"
    },
    {
     "data": {
      "image/png": "[encoded data removed]",
      "text/plain": [
       "<Figure size 432x288 with 1 Axes>"
      ]
     },
     "metadata": {
      "needs_background": "light"
     },
     "output_type": "display_data"
    }
   ],
   "source": [
    "plt.plot(sol.time,fluxes['LMPD_biomass_c_17_462'])\n",
    "fluxes['GLCptspp'][2:3]"
   ]
  },
  {
   "cell_type": "code",
   "execution_count": 139,
   "id": "cacab8ef",
   "metadata": {},
   "outputs": [
    {
     "data": {
      "text/plain": [
       "1549.627648319189"
      ]
     },
     "execution_count": 139,
     "metadata": {},
     "output_type": "execute_result"
    }
   ],
   "source": [
    "fluxGLC=np.mean(fluxes['GLCptspp'][2:5])\n",
    "fluxBiomass=np.mean(fluxes['LMPD_biomass_c_17_462'][2:4])\n",
    "fluxProduct=np.mean(fluxes['Enzyme_G'][2:4])\n",
    "\n",
    "a=fluxGLC/fluxBiomass\n",
    "b=fluxGLC/fluxProduct\n",
    "b"
   ]
  },
  {
   "cell_type": "code",
   "execution_count": 187,
   "id": "6d343e48",
   "metadata": {},
   "outputs": [],
   "source": [
    "#Parameters\n",
    "qsmax=-0.3*1e6 #CmolS.Cmolx-1.h_1\n",
    "Ks=0.01*180*1e6 #Cmol.S.L-1\n",
    "a= -14.687 #S requirement for biomass\n",
    "b=-1.549\n",
    "ms=-0.01 #CmolS.Cmolx-1.h-1\n",
    "\n",
    "\n",
    "#Initial conditions\n",
    "Cs=3 #Cmol.L-1\n",
    "Cx=0.01 #Cmol.L-1\n",
    "Vl=1\n",
    "\n",
    "def Batch(t,y,qsmax,Ks,a,ms):\n",
    "    Cs,Cx=y\n",
    "    if Cs<0:\n",
    "        Cs=0\n",
    "    #Kinetic equations\n",
    "    qs=qsmax*(Cs/(Ks+Cs))\n",
    "    qx=(qs-ms)/a\n",
    "    #Rate equations\n",
    "    Rs=qs*Cx*1\n",
    "    Rx=qx*Cx*1\n",
    "    #Rc=-(Rs+Rx)  #Rco2 and Ro2\n",
    "    R=[Rs,Rx]\n",
    "    return R\n",
    "\n",
    "def qrate(sol,t,tend,ms):\n",
    "    dt=tend/len(sol)\n",
    "    Cs=sol\n",
    "    qs=qsmax*(Cs/(Ks+Cs))\n",
    "    qx=(qs-ms)/a\n",
    "    return qs,qx\n",
    "\n",
    "def rates(sol,t,tend):\n",
    "    dt=tend/np.shape(sol)[0]\n",
    "    S=sol[1:np.shape(sol)[0],0]-sol[0:np.shape(sol)[0]-1,0]\n",
    "    X=sol[1:np.shape(sol)[0],1]-sol[0:np.shape(sol)[0]-1,1]\n",
    "    \n",
    "    #substrate rate and biomass Rate\n",
    "    Rs=np.divide(S,dt)\n",
    "    Rx=np.divide(X,dt)\n",
    "    #Oxygen rate and CO2 rate, and respiratory quotient\n",
    "    Rc=-(Rs+Rx)\n",
    "    Ro=(4*Rs+4.2*Rx)/4\n",
    "    Rq=Rc/-Ro\n",
    "\n",
    "    t=t[1:len(t)]\n",
    "\n",
    "    return t,Rs,Rx,Rc,Ro,Rq\n",
    "\n",
    "\n"
   ]
  },
  {
   "cell_type": "code",
   "execution_count": 188,
   "id": "d026e495",
   "metadata": {},
   "outputs": [
    {
     "data": {
      "image/png": "[encoded data removed]",
      "text/plain": [
       "<Figure size 432x288 with 1 Axes>"
      ]
     },
     "metadata": {
      "needs_background": "light"
     },
     "output_type": "display_data"
    }
   ],
   "source": [
    "import numpy as np\n",
    "from scipy.integrate import solve_ivp\n",
    "import matplotlib.pyplot as plt\n",
    "\n",
    "\n",
    "sol = solve_ivp(Batch, [0, 20], [300, 0.01], args=(qsmax,Ks,a,ms),\n",
    "                dense_output=True)\n",
    "    \n",
    "t = np.linspace(0, 20,100000)\n",
    "z = sol.sol(t)\n",
    "z=z.T\n",
    "\n",
    "#print(np.shape(z))\n",
    "t1,Rs,Rx,Rc,Ro,Rq=rates(z,t,50)\n",
    "qst,qxt=qrate(z[:,0],t,50,ms)\n",
    "\n",
    "\n",
    "\n",
    "# Batch Plots\n",
    "plt.plot(t,z[:,0],label=\"Glucose\")\n",
    "plt.plot(t,z[:,1],label=\"Biomass\")\n",
    "plt.xlabel(\"Time (in hours)\")\n",
    "plt.ylabel(\"Concentration (in Cmol/L)\")\n",
    "plt.title(\"Biomass production and glucose uptake\")          \n",
    "plt.legend()\n",
    "plt.show()\n"
   ]
  },
  {
   "cell_type": "code",
   "execution_count": 186,
   "id": "ce9c168f",
   "metadata": {},
   "outputs": [
    {
     "data": {
      "text/plain": [
       "0.13876862274917293"
      ]
     },
     "execution_count": 186,
     "metadata": {},
     "output_type": "execute_result"
    }
   ],
   "source": [
    "#biomassa\n",
    "15.9994*0.5+(12.0107)+(14.0007*0.2)+(1.00794*1.8)\n",
    "\n",
    "#glucose feed (25 g/l)\n",
    "25/180.156"
   ]
  },
  {
   "cell_type": "code",
   "execution_count": 194,
   "id": "46ab8391",
   "metadata": {},
   "outputs": [
    {
     "name": "stdout",
     "output_type": "stream",
     "text": [
      "(55, 72)\n"
     ]
    }
   ],
   "source": [
    "from skimpy.utils.general import get_stoichiometry\n",
    "S = get_stoichiometry(kmodel, kmodel.reactants).todense()\n",
    "print(np.shape(S))"
   ]
  },
  {
   "cell_type": "code",
   "execution_count": 210,
   "id": "1fdd481b",
   "metadata": {},
   "outputs": [
    {
     "data": {
      "text/plain": [
       "67200.0"
      ]
     },
     "execution_count": 210,
     "metadata": {},
     "output_type": "execute_result"
    }
   ],
   "source": [
    "len(kmodel.reactants)\n",
    "kmodel.parameters.glc_D_e.value"
   ]
  },
  {
   "cell_type": "code",
   "execution_count": 212,
   "id": "9f0621ac",
   "metadata": {},
   "outputs": [
    {
     "data": {
      "text/plain": [
       "1.8666666666666667"
      ]
     },
     "execution_count": 212,
     "metadata": {},
     "output_type": "execute_result"
    }
   ],
   "source": [
    "67200/36000\n"
   ]
  },
  {
   "cell_type": "code",
   "execution_count": null,
   "id": "7ad966bd",
   "metadata": {},
   "outputs": [],
   "source": []
  }
 ],
 "metadata": {
  "kernelspec": {
   "display_name": "skimpy-env",
   "language": "python",
   "name": "python3"
  },
  "language_info": {
   "codemirror_mode": {
    "name": "ipython",
    "version": 3
   },
   "file_extension": ".py",
   "mimetype": "text/x-python",
   "name": "python",
   "nbconvert_exporter": "python",
   "pygments_lexer": "ipython3",
   "version": "3.8.16"
  },
  "vscode": {
   "interpreter": {
    "hash": "a9dd68d5880792e35790e82cb4df702d98eb2557faf7619eefc7a61bc04869ce"
   }
  }
 },
 "nbformat": 4,
 "nbformat_minor": 5
}
